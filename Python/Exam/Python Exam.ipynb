{
 "cells": [
  {
   "cell_type": "markdown",
   "id": "7b65c561-3e20-4752-ae46-b69ea3919046",
   "metadata": {},
   "source": [
    "### Importing Libraries"
   ]
  },
  {
   "cell_type": "code",
   "execution_count": 86,
   "id": "f1a18ae2-3104-4967-96eb-958c36a212e6",
   "metadata": {},
   "outputs": [],
   "source": [
    "import pandas as pd\n",
    "import matplotlib.pyplot as plt\n",
    "import seaborn as sns\n",
    "import numpy as np"
   ]
  },
  {
   "cell_type": "markdown",
   "id": "a201706f-56a0-4010-9be6-addf2240d47e",
   "metadata": {},
   "source": [
    "### Importing Dataset"
   ]
  },
  {
   "cell_type": "code",
   "execution_count": 3,
   "id": "056fabde-3942-44e6-ad18-bbcbfb923613",
   "metadata": {},
   "outputs": [],
   "source": [
    "df = pd.read_csv('MD_agric_exam-4313.csv')"
   ]
  },
  {
   "cell_type": "code",
   "execution_count": 4,
   "id": "0f4d6293-acfb-40a2-81cc-3af60abd85c7",
   "metadata": {},
   "outputs": [
    {
     "data": {
      "text/html": [
       "<div>\n",
       "<style scoped>\n",
       "    .dataframe tbody tr th:only-of-type {\n",
       "        vertical-align: middle;\n",
       "    }\n",
       "\n",
       "    .dataframe tbody tr th {\n",
       "        vertical-align: top;\n",
       "    }\n",
       "\n",
       "    .dataframe thead th {\n",
       "        text-align: right;\n",
       "    }\n",
       "</style>\n",
       "<table border=\"1\" class=\"dataframe\">\n",
       "  <thead>\n",
       "    <tr style=\"text-align: right;\">\n",
       "      <th></th>\n",
       "      <th>Field_ID</th>\n",
       "      <th>Elevation</th>\n",
       "      <th>Rainfall</th>\n",
       "      <th>Min_temperature_C</th>\n",
       "      <th>Max_temperature_C</th>\n",
       "      <th>pH</th>\n",
       "      <th>Pollution_level</th>\n",
       "      <th>Plot_size</th>\n",
       "      <th>Annual_yield</th>\n",
       "      <th>Crop_type</th>\n",
       "    </tr>\n",
       "  </thead>\n",
       "  <tbody>\n",
       "    <tr>\n",
       "      <th>0</th>\n",
       "      <td>1162</td>\n",
       "      <td>494.95615</td>\n",
       "      <td>1507.6</td>\n",
       "      <td>-5.4</td>\n",
       "      <td>31.0</td>\n",
       "      <td>6.859436</td>\n",
       "      <td>0.007034</td>\n",
       "      <td>3.6</td>\n",
       "      <td>1.617421</td>\n",
       "      <td>coffee</td>\n",
       "    </tr>\n",
       "    <tr>\n",
       "      <th>1</th>\n",
       "      <td>5108</td>\n",
       "      <td>663.73390</td>\n",
       "      <td>581.0</td>\n",
       "      <td>-4.7</td>\n",
       "      <td>30.9</td>\n",
       "      <td>5.603219</td>\n",
       "      <td>0.289643</td>\n",
       "      <td>4.2</td>\n",
       "      <td>2.532497</td>\n",
       "      <td>potato</td>\n",
       "    </tr>\n",
       "    <tr>\n",
       "      <th>2</th>\n",
       "      <td>3504</td>\n",
       "      <td>396.87990</td>\n",
       "      <td>1715.1</td>\n",
       "      <td>-6.1</td>\n",
       "      <td>31.7</td>\n",
       "      <td>5.774116</td>\n",
       "      <td>0.000409</td>\n",
       "      <td>2.6</td>\n",
       "      <td>1.262207</td>\n",
       "      <td>banana</td>\n",
       "    </tr>\n",
       "    <tr>\n",
       "      <th>3</th>\n",
       "      <td>5351</td>\n",
       "      <td>594.80370</td>\n",
       "      <td>1748.0</td>\n",
       "      <td>-4.3</td>\n",
       "      <td>33.6</td>\n",
       "      <td>6.477415</td>\n",
       "      <td>0.088777</td>\n",
       "      <td>7.9</td>\n",
       "      <td>4.351564</td>\n",
       "      <td>wheat</td>\n",
       "    </tr>\n",
       "    <tr>\n",
       "      <th>4</th>\n",
       "      <td>905</td>\n",
       "      <td>609.49800</td>\n",
       "      <td>1395.8</td>\n",
       "      <td>-4.5</td>\n",
       "      <td>31.3</td>\n",
       "      <td>5.419586</td>\n",
       "      <td>0.050023</td>\n",
       "      <td>10.8</td>\n",
       "      <td>5.034791</td>\n",
       "      <td>cassava</td>\n",
       "    </tr>\n",
       "  </tbody>\n",
       "</table>\n",
       "</div>"
      ],
      "text/plain": [
       "   Field_ID  Elevation  Rainfall  Min_temperature_C  Max_temperature_C  \\\n",
       "0      1162  494.95615    1507.6               -5.4               31.0   \n",
       "1      5108  663.73390     581.0               -4.7               30.9   \n",
       "2      3504  396.87990    1715.1               -6.1               31.7   \n",
       "3      5351  594.80370    1748.0               -4.3               33.6   \n",
       "4       905  609.49800    1395.8               -4.5               31.3   \n",
       "\n",
       "         pH  Pollution_level  Plot_size  Annual_yield Crop_type  \n",
       "0  6.859436         0.007034        3.6      1.617421    coffee  \n",
       "1  5.603219         0.289643        4.2      2.532497    potato  \n",
       "2  5.774116         0.000409        2.6      1.262207    banana  \n",
       "3  6.477415         0.088777        7.9      4.351564     wheat  \n",
       "4  5.419586         0.050023       10.8      5.034791   cassava  "
      ]
     },
     "execution_count": 4,
     "metadata": {},
     "output_type": "execute_result"
    }
   ],
   "source": [
    "df.head()"
   ]
  },
  {
   "cell_type": "code",
   "execution_count": 18,
   "id": "03ba928d-cc53-41f9-8c72-2be3aef72b6b",
   "metadata": {},
   "outputs": [
    {
     "name": "stdout",
     "output_type": "stream",
     "text": [
      "<class 'pandas.core.frame.DataFrame'>\n",
      "RangeIndex: 1000 entries, 0 to 999\n",
      "Data columns (total 10 columns):\n",
      " #   Column             Non-Null Count  Dtype  \n",
      "---  ------             --------------  -----  \n",
      " 0   Field_ID           1000 non-null   int64  \n",
      " 1   Elevation          1000 non-null   float64\n",
      " 2   Rainfall           1000 non-null   float64\n",
      " 3   Min_temperature_C  1000 non-null   float64\n",
      " 4   Max_temperature_C  1000 non-null   float64\n",
      " 5   pH                 1000 non-null   float64\n",
      " 6   Pollution_level    1000 non-null   float64\n",
      " 7   Plot_size          1000 non-null   float64\n",
      " 8   Annual_yield       1000 non-null   float64\n",
      " 9   Crop_type          1000 non-null   object \n",
      "dtypes: float64(8), int64(1), object(1)\n",
      "memory usage: 78.3+ KB\n"
     ]
    }
   ],
   "source": [
    "df.info()"
   ]
  },
  {
   "cell_type": "markdown",
   "id": "05d5c4ec-ece1-4551-8acc-a3a2fa4023c5",
   "metadata": {},
   "source": [
    "## Task 1: Number of unique crop types"
   ]
  },
  {
   "cell_type": "code",
   "execution_count": 6,
   "id": "8d1870ee-3579-44aa-a327-8ad62bf4034d",
   "metadata": {},
   "outputs": [
    {
     "data": {
      "text/plain": [
       "8"
      ]
     },
     "execution_count": 6,
     "metadata": {},
     "output_type": "execute_result"
    }
   ],
   "source": [
    "len(df['Crop_type'].unique())"
   ]
  },
  {
   "cell_type": "markdown",
   "id": "c2262600-92d8-494b-a122-13698f86865b",
   "metadata": {},
   "source": [
    "## Task 2: Maximum annual yield for 'wheat' crop"
   ]
  },
  {
   "cell_type": "code",
   "execution_count": 10,
   "id": "a5017251-6a3d-4a47-a6c9-ae592f69a05c",
   "metadata": {},
   "outputs": [
    {
     "data": {
      "text/html": [
       "<div>\n",
       "<style scoped>\n",
       "    .dataframe tbody tr th:only-of-type {\n",
       "        vertical-align: middle;\n",
       "    }\n",
       "\n",
       "    .dataframe tbody tr th {\n",
       "        vertical-align: top;\n",
       "    }\n",
       "\n",
       "    .dataframe thead th {\n",
       "        text-align: right;\n",
       "    }\n",
       "</style>\n",
       "<table border=\"1\" class=\"dataframe\">\n",
       "  <thead>\n",
       "    <tr style=\"text-align: right;\">\n",
       "      <th></th>\n",
       "      <th>Field_ID</th>\n",
       "      <th>Elevation</th>\n",
       "      <th>Rainfall</th>\n",
       "      <th>Min_temperature_C</th>\n",
       "      <th>Max_temperature_C</th>\n",
       "      <th>pH</th>\n",
       "      <th>Pollution_level</th>\n",
       "      <th>Plot_size</th>\n",
       "      <th>Annual_yield</th>\n",
       "      <th>Crop_type</th>\n",
       "    </tr>\n",
       "  </thead>\n",
       "  <tbody>\n",
       "    <tr>\n",
       "      <th>671</th>\n",
       "      <td>2811</td>\n",
       "      <td>592.2369</td>\n",
       "      <td>805.8</td>\n",
       "      <td>-5.2</td>\n",
       "      <td>31.6</td>\n",
       "      <td>6.453941</td>\n",
       "      <td>0.458986</td>\n",
       "      <td>14.0</td>\n",
       "      <td>8.994376</td>\n",
       "      <td>wheat</td>\n",
       "    </tr>\n",
       "  </tbody>\n",
       "</table>\n",
       "</div>"
      ],
      "text/plain": [
       "     Field_ID  Elevation  Rainfall  Min_temperature_C  Max_temperature_C  \\\n",
       "671      2811   592.2369     805.8               -5.2               31.6   \n",
       "\n",
       "           pH  Pollution_level  Plot_size  Annual_yield Crop_type  \n",
       "671  6.453941         0.458986       14.0      8.994376     wheat  "
      ]
     },
     "execution_count": 10,
     "metadata": {},
     "output_type": "execute_result"
    }
   ],
   "source": [
    "df[df['Crop_type'] == 'wheat'].sort_values(by='Annual_yield', ascending=False).head(1)"
   ]
  },
  {
   "cell_type": "markdown",
   "id": "25d54098-314b-40d8-af9a-7416f61b5318",
   "metadata": {},
   "source": [
    "## Task 3: Total rainfall for crops where average pollution is above 0.2"
   ]
  },
  {
   "cell_type": "code",
   "execution_count": 13,
   "id": "0324eda5-ee79-4892-83ca-72355e2d6eed",
   "metadata": {},
   "outputs": [
    {
     "data": {
      "text/plain": [
       "478902.6"
      ]
     },
     "execution_count": 13,
     "metadata": {},
     "output_type": "execute_result"
    }
   ],
   "source": [
    "df[df['Pollution_level'] > 0.2]['Rainfall'].sum()"
   ]
  },
  {
   "cell_type": "markdown",
   "id": "dedd7981-d959-4488-a877-1b10e114230b",
   "metadata": {},
   "source": [
    "## Task 4: Function to calculate temperature range for each field"
   ]
  },
  {
   "cell_type": "code",
   "execution_count": 35,
   "id": "8b1d7057-1b9f-461f-95e9-99fb5ce9b007",
   "metadata": {},
   "outputs": [],
   "source": [
    "def temp_range(field_id):\n",
    "    filtered = df[df['Field_ID'] == field_id]\n",
    "    return (filtered['Max_temperature_C'] - filtered['Min_temperature_C'])"
   ]
  },
  {
   "cell_type": "code",
   "execution_count": 36,
   "id": "f5a3beaf-ed2e-45b2-a579-3db9e408dcd4",
   "metadata": {},
   "outputs": [
    {
     "data": {
      "text/plain": [
       "135    40.7\n",
       "dtype: float64"
      ]
     },
     "execution_count": 36,
     "metadata": {},
     "output_type": "execute_result"
    }
   ],
   "source": [
    "temp_range(1458)"
   ]
  },
  {
   "cell_type": "code",
   "execution_count": 37,
   "id": "ddb11d89-f62c-4c60-8c77-7fbdec179983",
   "metadata": {},
   "outputs": [
    {
     "data": {
      "text/plain": [
       "644    35.7\n",
       "dtype: float64"
      ]
     },
     "execution_count": 37,
     "metadata": {},
     "output_type": "execute_result"
    }
   ],
   "source": [
    "temp_range(1895)"
   ]
  },
  {
   "cell_type": "code",
   "execution_count": 38,
   "id": "215e69ae-608a-4aa6-a86f-a459d8b25651",
   "metadata": {},
   "outputs": [
    {
     "data": {
      "text/plain": [
       "892    33.4\n",
       "dtype: float64"
      ]
     },
     "execution_count": 38,
     "metadata": {},
     "output_type": "execute_result"
    }
   ],
   "source": [
    "temp_range(5443)"
   ]
  },
  {
   "cell_type": "markdown",
   "id": "d04805e8-01f5-47f8-a2d4-52e2e7768f65",
   "metadata": {},
   "source": [
    "## Task 5: What does the following code achieve"
   ]
  },
  {
   "cell_type": "code",
   "execution_count": 39,
   "id": "26e9596c-0378-4888-b2c0-a2179d655833",
   "metadata": {},
   "outputs": [
    {
     "name": "stdout",
     "output_type": "stream",
     "text": [
      "rice\n"
     ]
    }
   ],
   "source": [
    "a = df['Crop_type'].unique()\n",
    "b = float('inf')\n",
    "c = ''\n",
    "\n",
    "for crop in a:\n",
    "    d = df[df['Crop_type'] == crop]['Min_temperature_C'].mean()\n",
    "    if d < b:\n",
    "        b = d\n",
    "        c = crop\n",
    "\n",
    "print(c)"
   ]
  },
  {
   "cell_type": "markdown",
   "id": "941f9b4c-382f-48f7-80c9-005df90482cd",
   "metadata": {},
   "source": [
    "#### It first filters out all unique crop type in an array 'a' then gets the mean minimum temperature of each crop type and then gets the crop with the least minimum temperature average"
   ]
  },
  {
   "cell_type": "markdown",
   "id": "cf5b9369-395e-4724-8484-a64b5857024e",
   "metadata": {},
   "source": [
    "## Task 6: Calculate the total plot size for plots where pH is less than 5.5"
   ]
  },
  {
   "cell_type": "code",
   "execution_count": 55,
   "id": "baf097e4-86a4-4e32-a227-b8651e2bc7e0",
   "metadata": {},
   "outputs": [
    {
     "data": {
      "text/plain": [
       "1731.9"
      ]
     },
     "execution_count": 55,
     "metadata": {},
     "output_type": "execute_result"
    }
   ],
   "source": [
    "round(df[df['pH'] < 5.5]['Plot_size'].sum(), 2)"
   ]
  },
  {
   "cell_type": "markdown",
   "id": "1078c3be-8cc1-4f04-b6aa-67548edab34a",
   "metadata": {},
   "source": [
    "## Task 7: Create dataframe where `Min_temperature_C` < -5 and `Max_temperature_C` > 30. How many rows are in the dataset?"
   ]
  },
  {
   "cell_type": "code",
   "execution_count": 46,
   "id": "c750402d-dc6b-46cb-9099-eaf14e25ead8",
   "metadata": {},
   "outputs": [
    {
     "data": {
      "text/plain": [
       "(319, 10)"
      ]
     },
     "execution_count": 46,
     "metadata": {},
     "output_type": "execute_result"
    }
   ],
   "source": [
    "filtered_df = df[(df['Min_temperature_C'] < -5) & (df['Max_temperature_C'] > 30)]\n",
    "filtered_df.shape"
   ]
  },
  {
   "cell_type": "markdown",
   "id": "95367e95-06a1-48f3-a9f0-957be9b0d515",
   "metadata": {},
   "source": [
    "## Task 8: Calculate the standard deviation of `Rainfall` for plots where `Plot_size` is larger than the median plot size of the dataset"
   ]
  },
  {
   "cell_type": "code",
   "execution_count": 52,
   "id": "8142fdbb-4ab3-4759-800d-e2ab6cab7ab7",
   "metadata": {},
   "outputs": [
    {
     "data": {
      "text/plain": [
       "469.62"
      ]
     },
     "execution_count": 52,
     "metadata": {},
     "output_type": "execute_result"
    }
   ],
   "source": [
    "median_plot_size = np.median(df['Plot_size'])\n",
    "filtered_df = df[df['Plot_size'] > median_plot_size]\n",
    "std_rainfall = np.std(filtered_df['Rainfall'], ddof=0)\n",
    "round(std_rainfall, 2)"
   ]
  },
  {
   "cell_type": "markdown",
   "id": "467d9631-8715-47a4-9d7f-e8d1f7e07a05",
   "metadata": {},
   "source": [
    "## Task 9: If you concatenate the first three digits of the most common ‘Max_temperature_C’ with the last three letters of the least common 'Crop_type', what string do you get?"
   ]
  },
  {
   "cell_type": "code",
   "execution_count": 73,
   "id": "1b4818d8-3a9c-45dc-a175-31ba889cfd73",
   "metadata": {},
   "outputs": [
    {
     "data": {
      "text/plain": [
       "'30.ice'"
      ]
     },
     "execution_count": 73,
     "metadata": {},
     "output_type": "execute_result"
    }
   ],
   "source": [
    "most_temp = df['Max_temperature_C'].mode().iloc[0]\n",
    "least_crop = df['Crop_type'].value_counts().sort_values().index[0]\n",
    "\n",
    "str(most_temp)[:3] + least_crop[-3:]"
   ]
  },
  {
   "cell_type": "markdown",
   "id": "b88b9696-f8b0-4345-ae83-8fead2454c30",
   "metadata": {},
   "source": [
    "## Task 10: Violin Plot visualizing `Annual_yield` across `Elevation` range categories (Low: < 300m, Medium: 300m - 600m, High: > 600m)"
   ]
  },
  {
   "cell_type": "code",
   "execution_count": 79,
   "id": "23b66ff0-6ff6-4691-9a50-869eb69b81e6",
   "metadata": {},
   "outputs": [
    {
     "data": {
      "image/png": "[encoded data removed]",
      "text/plain": [
       "<Figure size 1000x1000 with 1 Axes>"
      ]
     },
     "metadata": {},
     "output_type": "display_data"
    }
   ],
   "source": [
    "def categorise_elevation(elevation):\n",
    "    if elevation < 300:\n",
    "        return 'Low'\n",
    "    elif elevation > 600:\n",
    "        return 'High'\n",
    "    else:\n",
    "        return 'Medium'\n",
    "\n",
    "df['Elevation_category'] = df['Elevation'].apply(categorise_elevation)\n",
    "\n",
    "plt.figure(figsize=(10, 10))\n",
    "sns.violinplot(data=df, x='Elevation_category', y='Annual_yield', order=['Low', 'Medium', 'High'])\n",
    "plt.show()"
   ]
  },
  {
   "cell_type": "markdown",
   "id": "1d7ce7e3-fc4f-40c7-95ae-5a43c9574201",
   "metadata": {},
   "source": [
    "## Task 11: Write a recursive function to sum the integer values for each unique crop type in the dataset, assuming each `Crop_type` contributes an integer value equal to its length"
   ]
  },
  {
   "cell_type": "code",
   "execution_count": 82,
   "id": "18066533-e874-4029-90aa-5b0a1eb33c5d",
   "metadata": {},
   "outputs": [
    {
     "data": {
      "text/plain": [
       "42"
      ]
     },
     "execution_count": 82,
     "metadata": {},
     "output_type": "execute_result"
    }
   ],
   "source": [
    "def crops_sum(crops):\n",
    "    if len(crops) == 1:\n",
    "        return len(crops[0])\n",
    "    return len(crops[0]) + crops_sum(crops[1:])\n",
    "\n",
    "unique_crops = df['Crop_type'].unique()\n",
    "crops_sum(unique_crops)"
   ]
  },
  {
   "cell_type": "markdown",
   "id": "0bb8331c-91d9-475d-af93-f62765056d11",
   "metadata": {},
   "source": [
    "## Task 12: Perform a t-test comparing the average `Annual_yield` between 'coffee' and 'banana' crop types. What is the p-value?"
   ]
  },
  {
   "cell_type": "code",
   "execution_count": 92,
   "id": "2bd64215-818c-4619-b47e-e67cdb325093",
   "metadata": {},
   "outputs": [
    {
     "data": {
      "text/plain": [
       "0.598"
      ]
     },
     "execution_count": 92,
     "metadata": {},
     "output_type": "execute_result"
    }
   ],
   "source": [
    "from scipy.stats import ttest_ind\n",
    "\n",
    "coffee = df[df['Crop_type'] == 'coffee']['Annual_yield']\n",
    "banana = df[df['Crop_type'] == 'banana']['Annual_yield']\n",
    "t_statistic, p_value = ttest_ind(coffee, banana, equal_var=False)\n",
    "round(p_value, 3)"
   ]
  }
 ],
 "metadata": {
  "kernelspec": {
   "display_name": "Python 3 (ipykernel)",
   "language": "python",
   "name": "python3"
  },
  "language_info": {
   "codemirror_mode": {
    "name": "ipython",
    "version": 3
   },
   "file_extension": ".py",
   "mimetype": "text/x-python",
   "name": "python",
   "nbconvert_exporter": "python",
   "pygments_lexer": "ipython3",
   "version": "3.11.7"
  }
 },
 "nbformat": 4,
 "nbformat_minor": 5
}
