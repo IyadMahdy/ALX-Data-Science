{
 "cells": [
  {
   "cell_type": "markdown",
   "id": "ab2f782e",
   "metadata": {},
   "source": [
    "<div align=\"center\" style=\" font-size: 80%; text-align: center; margin: 0 auto\">\n",
    "<img src=\"https://raw.githubusercontent.com/Explore-AI/Pictures/master/Python-Notebook-Banners/Examples.png\"  style=\"display: block; margin-left: auto; margin-right: auto;\";/>\n",
    "</div>"
   ]
  },
  {
   "cell_type": "markdown",
   "id": "f662d169",
   "metadata": {},
   "source": [
    "# Examples: Classes\n",
    "© ExploreAI Academy"
   ]
  },
  {
   "cell_type": "markdown",
   "id": "26af890c",
   "metadata": {},
   "source": [
    "In this notebook, we will use Python classes to encapsulate data manipulation and visualisation operations. We'll see how classes can serve as a collection of methods, much like a library, that perform common tasks on the data they contain."
   ]
  },
  {
   "cell_type": "markdown",
   "id": "93e02199",
   "metadata": {},
   "source": [
    "> ⚠️ If you haven't already, you'll have to install the `matplotlib` library to be able to run the code in this notebook. Uncomment and run the code below to do the installation. "
   ]
  },
  {
   "cell_type": "code",
   "execution_count": 1,
   "id": "4b5994a9",
   "metadata": {},
   "outputs": [
    {
     "name": "stdout",
     "output_type": "stream",
     "text": [
      "Collecting matplotlib\n",
      "  Downloading matplotlib-3.8.2-cp311-cp311-win_amd64.whl.metadata (5.9 kB)\n",
      "Collecting contourpy>=1.0.1 (from matplotlib)\n",
      "  Downloading contourpy-1.2.0-cp311-cp311-win_amd64.whl.metadata (5.8 kB)\n",
      "Collecting cycler>=0.10 (from matplotlib)\n",
      "  Downloading cycler-0.12.1-py3-none-any.whl.metadata (3.8 kB)\n",
      "Collecting fonttools>=4.22.0 (from matplotlib)\n",
      "  Downloading fonttools-4.47.2-cp311-cp311-win_amd64.whl.metadata (160 kB)\n",
      "     ---------------------------------------- 0.0/160.8 kB ? eta -:--:--\n",
      "     ------- ------------------------------- 30.7/160.8 kB 1.3 MB/s eta 0:00:01\n",
      "     ---------------------- ---------------- 92.2/160.8 kB 1.3 MB/s eta 0:00:01\n",
      "     -------------------------------------- 160.8/160.8 kB 1.2 MB/s eta 0:00:00\n",
      "Collecting kiwisolver>=1.3.1 (from matplotlib)\n",
      "  Downloading kiwisolver-1.4.5-cp311-cp311-win_amd64.whl.metadata (6.5 kB)\n",
      "Collecting numpy<2,>=1.21 (from matplotlib)\n",
      "  Downloading numpy-1.26.3-cp311-cp311-win_amd64.whl.metadata (61 kB)\n",
      "     ---------------------------------------- 0.0/61.2 kB ? eta -:--:--\n",
      "     ---------------------------------------- 61.2/61.2 kB 3.2 MB/s eta 0:00:00\n",
      "Requirement already satisfied: packaging>=20.0 in c:\\users\\iyadm\\anaconda3\\envs\\ds_python\\lib\\site-packages (from matplotlib) (23.1)\n",
      "Collecting pillow>=8 (from matplotlib)\n",
      "  Downloading pillow-10.2.0-cp311-cp311-win_amd64.whl.metadata (9.9 kB)\n",
      "Collecting pyparsing>=2.3.1 (from matplotlib)\n",
      "  Downloading pyparsing-3.1.1-py3-none-any.whl.metadata (5.1 kB)\n",
      "Requirement already satisfied: python-dateutil>=2.7 in c:\\users\\iyadm\\anaconda3\\envs\\ds_python\\lib\\site-packages (from matplotlib) (2.8.2)\n",
      "Requirement already satisfied: six>=1.5 in c:\\users\\iyadm\\anaconda3\\envs\\ds_python\\lib\\site-packages (from python-dateutil>=2.7->matplotlib) (1.16.0)\n",
      "Downloading matplotlib-3.8.2-cp311-cp311-win_amd64.whl (7.6 MB)\n",
      "   ---------------------------------------- 0.0/7.6 MB ? eta -:--:--\n",
      "    --------------------------------------- 0.1/7.6 MB 2.8 MB/s eta 0:00:03\n",
      "   - -------------------------------------- 0.3/7.6 MB 3.4 MB/s eta 0:00:03\n",
      "   -- ------------------------------------- 0.5/7.6 MB 3.5 MB/s eta 0:00:03\n",
      "   --- ------------------------------------ 0.7/7.6 MB 3.6 MB/s eta 0:00:02\n",
      "   ---- ----------------------------------- 0.8/7.6 MB 3.8 MB/s eta 0:00:02\n",
      "   ----- ---------------------------------- 1.0/7.6 MB 3.7 MB/s eta 0:00:02\n",
      "   ------ --------------------------------- 1.2/7.6 MB 3.7 MB/s eta 0:00:02\n",
      "   ------- -------------------------------- 1.4/7.6 MB 3.7 MB/s eta 0:00:02\n",
      "   -------- ------------------------------- 1.6/7.6 MB 3.9 MB/s eta 0:00:02\n",
      "   -------- ------------------------------- 1.6/7.6 MB 3.5 MB/s eta 0:00:02\n",
      "   -------- ------------------------------- 1.6/7.6 MB 3.5 MB/s eta 0:00:02\n",
      "   -------- ------------------------------- 1.7/7.6 MB 2.9 MB/s eta 0:00:03\n",
      "   ----------- ---------------------------- 2.2/7.6 MB 3.5 MB/s eta 0:00:02\n",
      "   ------------ --------------------------- 2.3/7.6 MB 3.6 MB/s eta 0:00:02\n",
      "   ------------- -------------------------- 2.5/7.6 MB 3.6 MB/s eta 0:00:02\n",
      "   -------------- ------------------------- 2.7/7.6 MB 3.6 MB/s eta 0:00:02\n",
      "   --------------- ------------------------ 2.9/7.6 MB 3.7 MB/s eta 0:00:02\n",
      "   ---------------- ----------------------- 3.1/7.6 MB 3.6 MB/s eta 0:00:02\n",
      "   ----------------- ---------------------- 3.3/7.6 MB 3.7 MB/s eta 0:00:02\n",
      "   ------------------ --------------------- 3.4/7.6 MB 3.7 MB/s eta 0:00:02\n",
      "   ------------------- -------------------- 3.6/7.6 MB 3.7 MB/s eta 0:00:02\n",
      "   ------------------- -------------------- 3.8/7.6 MB 3.7 MB/s eta 0:00:02\n",
      "   -------------------- ------------------- 4.0/7.6 MB 3.8 MB/s eta 0:00:01\n",
      "   --------------------- ------------------ 4.2/7.6 MB 3.7 MB/s eta 0:00:01\n",
      "   ---------------------- ----------------- 4.3/7.6 MB 3.7 MB/s eta 0:00:01\n",
      "   ----------------------- ---------------- 4.5/7.6 MB 3.8 MB/s eta 0:00:01\n",
      "   ------------------------ --------------- 4.7/7.6 MB 3.8 MB/s eta 0:00:01\n",
      "   ------------------------- -------------- 4.9/7.6 MB 3.8 MB/s eta 0:00:01\n",
      "   -------------------------- ------------- 5.1/7.6 MB 3.8 MB/s eta 0:00:01\n",
      "   --------------------------- ------------ 5.3/7.6 MB 3.8 MB/s eta 0:00:01\n",
      "   ---------------------------- ----------- 5.4/7.6 MB 3.8 MB/s eta 0:00:01\n",
      "   ----------------------------- ---------- 5.6/7.6 MB 3.8 MB/s eta 0:00:01\n",
      "   ------------------------------ --------- 5.8/7.6 MB 3.8 MB/s eta 0:00:01\n",
      "   ------------------------------- -------- 5.9/7.6 MB 3.8 MB/s eta 0:00:01\n",
      "   ------------------------------- -------- 6.1/7.6 MB 3.8 MB/s eta 0:00:01\n",
      "   -------------------------------- ------- 6.3/7.6 MB 3.8 MB/s eta 0:00:01\n",
      "   --------------------------------- ------ 6.5/7.6 MB 3.8 MB/s eta 0:00:01\n",
      "   ---------------------------------- ----- 6.6/7.6 MB 3.8 MB/s eta 0:00:01\n",
      "   ----------------------------------- ---- 6.8/7.6 MB 3.8 MB/s eta 0:00:01\n",
      "   ------------------------------------ --- 7.0/7.6 MB 3.8 MB/s eta 0:00:01\n",
      "   ------------------------------------- -- 7.2/7.6 MB 3.8 MB/s eta 0:00:01\n",
      "   -------------------------------------- - 7.3/7.6 MB 3.7 MB/s eta 0:00:01\n",
      "   ---------------------------------------  7.5/7.6 MB 3.7 MB/s eta 0:00:01\n",
      "   ---------------------------------------  7.6/7.6 MB 3.7 MB/s eta 0:00:01\n",
      "   ---------------------------------------- 7.6/7.6 MB 3.7 MB/s eta 0:00:00\n",
      "Downloading contourpy-1.2.0-cp311-cp311-win_amd64.whl (187 kB)\n",
      "   ---------------------------------------- 0.0/187.6 kB ? eta -:--:--\n",
      "   ---------------------------------------  184.3/187.6 kB 3.7 MB/s eta 0:00:01\n",
      "   ---------------------------------------- 187.6/187.6 kB 3.8 MB/s eta 0:00:00\n",
      "Downloading cycler-0.12.1-py3-none-any.whl (8.3 kB)\n",
      "Downloading fonttools-4.47.2-cp311-cp311-win_amd64.whl (2.2 MB)\n",
      "   ---------------------------------------- 0.0/2.2 MB ? eta -:--:--\n",
      "   --- ------------------------------------ 0.2/2.2 MB 3.5 MB/s eta 0:00:01\n",
      "   ------ --------------------------------- 0.3/2.2 MB 3.6 MB/s eta 0:00:01\n",
      "   --------- ------------------------------ 0.5/2.2 MB 4.1 MB/s eta 0:00:01\n",
      "   ------------ --------------------------- 0.7/2.2 MB 3.7 MB/s eta 0:00:01\n",
      "   --------------- ------------------------ 0.9/2.2 MB 3.7 MB/s eta 0:00:01\n",
      "   ------------------- -------------------- 1.0/2.2 MB 3.7 MB/s eta 0:00:01\n",
      "   ---------------------- ----------------- 1.2/2.2 MB 3.7 MB/s eta 0:00:01\n",
      "   ------------------------- -------------- 1.4/2.2 MB 3.7 MB/s eta 0:00:01\n",
      "   ---------------------------- ----------- 1.6/2.2 MB 3.7 MB/s eta 0:00:01\n",
      "   -------------------------------- ------- 1.8/2.2 MB 3.6 MB/s eta 0:00:01\n",
      "   ----------------------------------- ---- 1.9/2.2 MB 3.7 MB/s eta 0:00:01\n",
      "   -------------------------------------- - 2.1/2.2 MB 3.7 MB/s eta 0:00:01\n",
      "   ---------------------------------------- 2.2/2.2 MB 3.7 MB/s eta 0:00:00\n",
      "Downloading kiwisolver-1.4.5-cp311-cp311-win_amd64.whl (56 kB)\n",
      "   ---------------------------------------- 0.0/56.1 kB ? eta -:--:--\n",
      "   ---------------------------------------- 56.1/56.1 kB 3.1 MB/s eta 0:00:00\n",
      "Downloading numpy-1.26.3-cp311-cp311-win_amd64.whl (15.8 MB)\n",
      "   ---------------------------------------- 0.0/15.8 MB ? eta -:--:--\n",
      "   ---------------------------------------- 0.2/15.8 MB 3.5 MB/s eta 0:00:05\n",
      "    --------------------------------------- 0.4/15.8 MB 3.7 MB/s eta 0:00:05\n",
      "   - -------------------------------------- 0.5/15.8 MB 3.7 MB/s eta 0:00:05\n",
      "   - -------------------------------------- 0.7/15.8 MB 3.7 MB/s eta 0:00:05\n",
      "   -- ------------------------------------- 0.8/15.8 MB 3.6 MB/s eta 0:00:05\n",
      "   -- ------------------------------------- 1.0/15.8 MB 3.6 MB/s eta 0:00:05\n",
      "   --- ------------------------------------ 1.2/15.8 MB 3.6 MB/s eta 0:00:05\n",
      "   --- ------------------------------------ 1.4/15.8 MB 3.7 MB/s eta 0:00:04\n",
      "   --- ------------------------------------ 1.6/15.8 MB 3.7 MB/s eta 0:00:04\n",
      "   ---- ----------------------------------- 1.7/15.8 MB 3.6 MB/s eta 0:00:04\n",
      "   ---- ----------------------------------- 1.9/15.8 MB 3.6 MB/s eta 0:00:04\n",
      "   ----- ---------------------------------- 2.1/15.8 MB 3.6 MB/s eta 0:00:04\n",
      "   ----- ---------------------------------- 2.3/15.8 MB 3.6 MB/s eta 0:00:04\n",
      "   ------ --------------------------------- 2.5/15.8 MB 3.6 MB/s eta 0:00:04\n",
      "   ------ --------------------------------- 2.6/15.8 MB 3.6 MB/s eta 0:00:04\n",
      "   ------- -------------------------------- 2.8/15.8 MB 3.6 MB/s eta 0:00:04\n",
      "   ------- -------------------------------- 2.9/15.8 MB 3.6 MB/s eta 0:00:04\n",
      "   ------- -------------------------------- 3.1/15.8 MB 3.6 MB/s eta 0:00:04\n",
      "   -------- ------------------------------- 3.3/15.8 MB 3.6 MB/s eta 0:00:04\n",
      "   -------- ------------------------------- 3.4/15.8 MB 3.6 MB/s eta 0:00:04\n",
      "   -------- ------------------------------- 3.6/15.8 MB 3.6 MB/s eta 0:00:04\n",
      "   --------- ------------------------------ 3.7/15.8 MB 3.6 MB/s eta 0:00:04\n",
      "   --------- ------------------------------ 3.9/15.8 MB 3.6 MB/s eta 0:00:04\n",
      "   ---------- ----------------------------- 4.0/15.8 MB 3.6 MB/s eta 0:00:04\n",
      "   ---------- ----------------------------- 4.2/15.8 MB 3.6 MB/s eta 0:00:04\n",
      "   ---------- ----------------------------- 4.3/15.8 MB 3.6 MB/s eta 0:00:04\n",
      "   ----------- ---------------------------- 4.5/15.8 MB 3.6 MB/s eta 0:00:04\n",
      "   ----------- ---------------------------- 4.6/15.8 MB 3.6 MB/s eta 0:00:04\n",
      "   ----------- ---------------------------- 4.7/15.8 MB 3.6 MB/s eta 0:00:04\n",
      "   ------------ --------------------------- 4.9/15.8 MB 3.6 MB/s eta 0:00:04\n",
      "   ------------ --------------------------- 5.0/15.8 MB 3.6 MB/s eta 0:00:03\n",
      "   ------------- -------------------------- 5.2/15.8 MB 3.7 MB/s eta 0:00:03\n",
      "   ------------- -------------------------- 5.4/15.8 MB 3.7 MB/s eta 0:00:03\n",
      "   ------------- -------------------------- 5.5/15.8 MB 3.6 MB/s eta 0:00:03\n",
      "   -------------- ------------------------- 5.7/15.8 MB 3.6 MB/s eta 0:00:03\n",
      "   -------------- ------------------------- 5.8/15.8 MB 3.7 MB/s eta 0:00:03\n",
      "   --------------- ------------------------ 6.0/15.8 MB 3.6 MB/s eta 0:00:03\n",
      "   --------------- ------------------------ 6.1/15.8 MB 3.6 MB/s eta 0:00:03\n",
      "   --------------- ------------------------ 6.3/15.8 MB 3.6 MB/s eta 0:00:03\n",
      "   ---------------- ----------------------- 6.5/15.8 MB 3.6 MB/s eta 0:00:03\n",
      "   ---------------- ----------------------- 6.6/15.8 MB 3.7 MB/s eta 0:00:03\n",
      "   ----------------- ---------------------- 6.8/15.8 MB 3.7 MB/s eta 0:00:03\n",
      "   ----------------- ---------------------- 7.0/15.8 MB 3.7 MB/s eta 0:00:03\n",
      "   ------------------ --------------------- 7.2/15.8 MB 3.7 MB/s eta 0:00:03\n",
      "   ------------------ --------------------- 7.3/15.8 MB 3.7 MB/s eta 0:00:03\n",
      "   ------------------- -------------------- 7.5/15.8 MB 3.7 MB/s eta 0:00:03\n",
      "   ------------------- -------------------- 7.7/15.8 MB 3.7 MB/s eta 0:00:03\n",
      "   ------------------- -------------------- 7.9/15.8 MB 3.7 MB/s eta 0:00:03\n",
      "   -------------------- ------------------- 8.0/15.8 MB 3.7 MB/s eta 0:00:03\n",
      "   -------------------- ------------------- 8.2/15.8 MB 3.7 MB/s eta 0:00:03\n",
      "   --------------------- ------------------ 8.4/15.8 MB 3.7 MB/s eta 0:00:03\n",
      "   --------------------- ------------------ 8.6/15.8 MB 3.7 MB/s eta 0:00:02\n",
      "   ---------------------- ----------------- 8.8/15.8 MB 3.7 MB/s eta 0:00:02\n",
      "   ---------------------- ----------------- 8.9/15.8 MB 3.7 MB/s eta 0:00:02\n",
      "   ----------------------- ---------------- 9.1/15.8 MB 3.7 MB/s eta 0:00:02\n",
      "   ----------------------- ---------------- 9.3/15.8 MB 3.7 MB/s eta 0:00:02\n",
      "   ----------------------- ---------------- 9.5/15.8 MB 3.7 MB/s eta 0:00:02\n",
      "   ------------------------ --------------- 9.6/15.8 MB 3.7 MB/s eta 0:00:02\n",
      "   ------------------------ --------------- 9.8/15.8 MB 3.7 MB/s eta 0:00:02\n",
      "   ------------------------- -------------- 10.0/15.8 MB 3.7 MB/s eta 0:00:02\n",
      "   ------------------------- -------------- 10.1/15.8 MB 3.7 MB/s eta 0:00:02\n",
      "   -------------------------- ------------- 10.3/15.8 MB 3.7 MB/s eta 0:00:02\n",
      "   -------------------------- ------------- 10.5/15.8 MB 3.7 MB/s eta 0:00:02\n",
      "   -------------------------- ------------- 10.6/15.8 MB 3.7 MB/s eta 0:00:02\n",
      "   --------------------------- ------------ 10.8/15.8 MB 3.6 MB/s eta 0:00:02\n",
      "   --------------------------- ------------ 11.0/15.8 MB 3.7 MB/s eta 0:00:02\n",
      "   ---------------------------- ----------- 11.1/15.8 MB 3.7 MB/s eta 0:00:02\n",
      "   ---------------------------- ----------- 11.3/15.8 MB 3.7 MB/s eta 0:00:02\n",
      "   ----------------------------- ---------- 11.5/15.8 MB 3.7 MB/s eta 0:00:02\n",
      "   ----------------------------- ---------- 11.7/15.8 MB 3.7 MB/s eta 0:00:02\n",
      "   ----------------------------- ---------- 11.8/15.8 MB 3.7 MB/s eta 0:00:02\n",
      "   ------------------------------ --------- 12.0/15.8 MB 3.7 MB/s eta 0:00:02\n",
      "   ------------------------------ --------- 12.2/15.8 MB 3.7 MB/s eta 0:00:01\n",
      "   ------------------------------- -------- 12.4/15.8 MB 3.7 MB/s eta 0:00:01\n",
      "   ------------------------------- -------- 12.5/15.8 MB 3.7 MB/s eta 0:00:01\n",
      "   -------------------------------- ------- 12.7/15.8 MB 3.7 MB/s eta 0:00:01\n",
      "   -------------------------------- ------- 12.8/15.8 MB 3.7 MB/s eta 0:00:01\n",
      "   -------------------------------- ------- 13.0/15.8 MB 3.7 MB/s eta 0:00:01\n",
      "   --------------------------------- ------ 13.2/15.8 MB 3.7 MB/s eta 0:00:01\n",
      "   --------------------------------- ------ 13.3/15.8 MB 3.7 MB/s eta 0:00:01\n",
      "   ---------------------------------- ----- 13.5/15.8 MB 3.7 MB/s eta 0:00:01\n",
      "   ---------------------------------- ----- 13.6/15.8 MB 3.7 MB/s eta 0:00:01\n",
      "   ---------------------------------- ----- 13.8/15.8 MB 3.7 MB/s eta 0:00:01\n",
      "   ----------------------------------- ---- 13.9/15.8 MB 3.7 MB/s eta 0:00:01\n",
      "   ----------------------------------- ---- 14.1/15.8 MB 3.7 MB/s eta 0:00:01\n",
      "   ----------------------------------- ---- 14.2/15.8 MB 3.7 MB/s eta 0:00:01\n",
      "   ------------------------------------ --- 14.4/15.8 MB 3.7 MB/s eta 0:00:01\n",
      "   ------------------------------------ --- 14.5/15.8 MB 3.7 MB/s eta 0:00:01\n",
      "   ------------------------------------- -- 14.7/15.8 MB 3.7 MB/s eta 0:00:01\n",
      "   ------------------------------------- -- 14.8/15.8 MB 3.7 MB/s eta 0:00:01\n",
      "   ------------------------------------- -- 15.0/15.8 MB 3.7 MB/s eta 0:00:01\n",
      "   -------------------------------------- - 15.1/15.8 MB 3.7 MB/s eta 0:00:01\n",
      "   -------------------------------------- - 15.2/15.8 MB 3.7 MB/s eta 0:00:01\n",
      "   ---------------------------------------  15.4/15.8 MB 3.7 MB/s eta 0:00:01\n",
      "   ---------------------------------------  15.6/15.8 MB 3.7 MB/s eta 0:00:01\n",
      "   ---------------------------------------  15.8/15.8 MB 3.7 MB/s eta 0:00:01\n",
      "   ---------------------------------------- 15.8/15.8 MB 3.6 MB/s eta 0:00:00\n",
      "Downloading pillow-10.2.0-cp311-cp311-win_amd64.whl (2.6 MB)\n",
      "   ---------------------------------------- 0.0/2.6 MB ? eta -:--:--\n",
      "   - -------------------------------------- 0.1/2.6 MB 3.5 MB/s eta 0:00:01\n",
      "   ---- ----------------------------------- 0.3/2.6 MB 4.2 MB/s eta 0:00:01\n",
      "   ------ --------------------------------- 0.4/2.6 MB 3.7 MB/s eta 0:00:01\n",
      "   -------- ------------------------------- 0.6/2.6 MB 3.8 MB/s eta 0:00:01\n",
      "   ---------- ----------------------------- 0.7/2.6 MB 3.6 MB/s eta 0:00:01\n",
      "   ------------- -------------------------- 0.9/2.6 MB 3.9 MB/s eta 0:00:01\n",
      "   --------------- ------------------------ 1.0/2.6 MB 3.6 MB/s eta 0:00:01\n",
      "   ----------------- ---------------------- 1.2/2.6 MB 3.7 MB/s eta 0:00:01\n",
      "   -------------------- ------------------- 1.3/2.6 MB 3.8 MB/s eta 0:00:01\n",
      "   ---------------------- ----------------- 1.5/2.6 MB 3.7 MB/s eta 0:00:01\n",
      "   ------------------------ --------------- 1.6/2.6 MB 3.6 MB/s eta 0:00:01\n",
      "   -------------------------- ------------- 1.8/2.6 MB 3.6 MB/s eta 0:00:01\n",
      "   ---------------------------- ----------- 1.9/2.6 MB 3.7 MB/s eta 0:00:01\n",
      "   ------------------------------- -------- 2.0/2.6 MB 3.6 MB/s eta 0:00:01\n",
      "   --------------------------------- ------ 2.2/2.6 MB 3.7 MB/s eta 0:00:01\n",
      "   ----------------------------------- ---- 2.3/2.6 MB 3.6 MB/s eta 0:00:01\n",
      "   ------------------------------------- -- 2.5/2.6 MB 3.7 MB/s eta 0:00:01\n",
      "   ---------------------------------------- 2.6/2.6 MB 3.6 MB/s eta 0:00:00\n",
      "Downloading pyparsing-3.1.1-py3-none-any.whl (103 kB)\n",
      "   ---------------------------------------- 0.0/103.1 kB ? eta -:--:--\n",
      "   ---------------------------------------- 103.1/103.1 kB 3.0 MB/s eta 0:00:00\n",
      "Installing collected packages: pyparsing, pillow, numpy, kiwisolver, fonttools, cycler, contourpy, matplotlib\n",
      "Successfully installed contourpy-1.2.0 cycler-0.12.1 fonttools-4.47.2 kiwisolver-1.4.5 matplotlib-3.8.2 numpy-1.26.3 pillow-10.2.0 pyparsing-3.1.1\n"
     ]
    }
   ],
   "source": [
    "! pip install matplotlib"
   ]
  },
  {
   "cell_type": "markdown",
   "id": "2d230d14",
   "metadata": {
    "tags": []
   },
   "source": [
    "## Learning objectives\n",
    "\n",
    "By the end of this train, you should be able to:\n",
    "\n",
    "- Define a class that encapsulates data and operations on it.\n",
    "- Instantiate a class and use its methods to manipulate data.\n",
    "- Understand the practical reasons for using classes."
   ]
  },
  {
   "cell_type": "markdown",
   "id": "4f74a4e6",
   "metadata": {},
   "source": [
    "## Data Analysis with a Custom Class\n",
    "\n",
    "Suppose we have various data sets representing different aspects of a forest's health — tree growth, rainfall, soil quality, etc. We would use a custom class to neatly package these operations."
   ]
  },
  {
   "cell_type": "markdown",
   "id": "03bb0bee",
   "metadata": {},
   "source": [
    "### Defining a `DataAnalysis` class\n",
    "\n",
    "Let's design the `DataAnalysis` class to encapsulate various data manipulation and visualisation operations that can be performed on a given dataset. "
   ]
  },
  {
   "cell_type": "code",
   "execution_count": 10,
   "id": "5ca940d4",
   "metadata": {},
   "outputs": [],
   "source": [
    "# Import pyplot module from matplotlib library\n",
    "import matplotlib.pyplot as plt\n",
    "\n",
    "class DataAnalysis:\n",
    "    def __init__(self, data):\n",
    "        self.data = data\n",
    "\n",
    "    def sum_of_data(self):\n",
    "        # Return the sum of the data\n",
    "        return sum(self.data)\n",
    "\n",
    "    def data_doubled(self):\n",
    "        # Return a new list with elements doubled\n",
    "        return [2 * element for element in self.data]\n",
    "\n",
    "    def plot_data_histogram(self):\n",
    "        # Plot a histogram of the data\n",
    "        plt.bar(range(len(self.data)), self.data, edgecolor='black')\n",
    "        plt.title('Histogram of Data Elements')\n",
    "        plt.xlabel('Index')\n",
    "        plt.ylabel('Data Value')\n",
    "        plt.show()"
   ]
  },
  {
   "cell_type": "markdown",
   "id": "69c9ada6",
   "metadata": {},
   "source": [
    "We start by importing the `pyplot` module from the `matplotlib` library, which is a popular data visualisation library in Python. It is introduced here because we want to include the capability to visually represent the data in the `DataAnalysis` class. The `pyplot` module provides a procedural interface to the `matplotlib` object-oriented plotting library. It's used here for its versatile plotting functions, such as `bar` for making bar plots (or histograms in this case).\n",
    "\n",
    "The alias `plt` is used as a convention to simplify our calls to the functions provided by `matplotlib.pyplot`. Instead of writing `matplotlib.pyplot.bar`, we can write `plt.bar`, which is shorter and more convenient.\n",
    "\n"
   ]
  },
  {
   "cell_type": "markdown",
   "id": "dc6ea7ca",
   "metadata": {},
   "source": [
    "### Using the `DataAnalysis` class\n",
    "\n",
    "Let's say we have a list representing annual rainfall measurements in a forest. We can use our `DataAnalysis` class to analyse this data."
   ]
  },
  {
   "cell_type": "code",
   "execution_count": 11,
   "id": "4476e81c",
   "metadata": {},
   "outputs": [
    {
     "data": {
      "image/png": "[encoded data removed]",
      "text/plain": [
       "<Figure size 640x480 with 1 Axes>"
      ]
     },
     "metadata": {},
     "output_type": "display_data"
    },
    {
     "name": "stdout",
     "output_type": "stream",
     "text": [
      "total_rainfall: 6400\n",
      "rainfall_doubled: [1600, 2400, 1800, 2800, 2000, 2200]\n"
     ]
    }
   ],
   "source": [
    "# A list of annual rainfall measurements\n",
    "rainfall_data = [800, 1200, 900, 1400, 1000, 1100]\n",
    "\n",
    "# Creating an instance of DataAnalysis with rainfall data\n",
    "rainfall_analysis = DataAnalysis(rainfall_data)\n",
    "\n",
    "# Visualising the data\n",
    "rainfall_analysis.plot_data_histogram()\n",
    "\n",
    "# Accessing methods to analyse the data\n",
    "total_rainfall = rainfall_analysis.sum_of_data()\n",
    "rainfall_doubled = rainfall_analysis.data_doubled()\n",
    "print(f'total_rainfall: {total_rainfall}')\n",
    "print(f'rainfall_doubled: {rainfall_doubled}')\n"
   ]
  },
  {
   "cell_type": "markdown",
   "id": "30088802",
   "metadata": {},
   "source": [
    "### Why create a `DataAnalysis` class?\n",
    "\n",
    "Creating a class for data analysis allows us to:\n",
    "\n",
    "1. **Encapsulate related methods**: All the methods that operate on a specific set of data are contained within one class.\n",
    "2. **Reuse code**: The same class can be instantiated with different data sets, avoiding the need to rewrite functions for each new data set.\n",
    "3. **Maintain state**: Instances of the class can maintain the state of the data they contain, which can be useful for tracking changes over time.\n",
    "4. **Abstract complexity**: The user of the class doesn't need to know how methods like `plot_data_histogram` are implemented. They can simply use the method to get the desired outcome.\n",
    "\n",
    "\n"
   ]
  },
  {
   "cell_type": "markdown",
   "id": "e9956efe",
   "metadata": {
    "tags": []
   },
   "source": [
    "## Summary\n",
    "\n",
    "In the context of forest conservation, using a class like `DataAnalysis` can streamline the analysis of environmental data. This structured approach is invaluable for scientists and conservationists who regularly work with complex data sets, enabling them to focus on the insights rather than the mechanics of data manipulation."
   ]
  },
  {
   "cell_type": "markdown",
   "id": "26fd094b-0fee-46f1-a4b8-73766813c42b",
   "metadata": {
    "tags": []
   },
   "source": [
    "#  \n",
    "\n",
    "<div align=\"center\" style=\" font-size: 80%; text-align: center; margin: 0 auto\">\n",
    "<img src=\"https://raw.githubusercontent.com/Explore-AI/Pictures/master/ExploreAI_logos/EAI_Blue_Dark.png\"  style=\"width:200px\";/>\n",
    "</div>"
   ]
  }
 ],
 "metadata": {
  "kernelspec": {
   "display_name": "Python 3 (ipykernel)",
   "language": "python",
   "name": "python3"
  },
  "language_info": {
   "codemirror_mode": {
    "name": "ipython",
    "version": 3
   },
   "file_extension": ".py",
   "mimetype": "text/x-python",
   "name": "python",
   "nbconvert_exporter": "python",
   "pygments_lexer": "ipython3",
   "version": "3.11.7"
  }
 },
 "nbformat": 4,
 "nbformat_minor": 5
}
