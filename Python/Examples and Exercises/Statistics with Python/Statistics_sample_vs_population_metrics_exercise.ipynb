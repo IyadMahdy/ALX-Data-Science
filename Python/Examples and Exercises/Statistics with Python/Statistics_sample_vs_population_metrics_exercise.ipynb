{
 "cells": [
  {
   "cell_type": "markdown",
   "id": "cd88ea27",
   "metadata": {},
   "source": [
    "<div align=\"center\" style=\" font-size: 80%; text-align: center; margin: 0 auto\">\n",
    "<img src=\"https://raw.githubusercontent.com/Explore-AI/Pictures/master/Python-Notebook-Banners/Exercise.png\"  style=\"display: block; margin-left: auto; margin-right: auto;\";/>\n",
    "</div>"
   ]
  },
  {
   "cell_type": "markdown",
   "id": "f662d169",
   "metadata": {},
   "source": [
    "# Exercise: Statistics: Sample vs. population metrics\n",
    "© ExploreAI Academy"
   ]
  },
  {
   "cell_type": "markdown",
   "id": "26af890c",
   "metadata": {},
   "source": [
    "In this notebook, we will present a series of code exercises that will test and enhance your understanding of sample and population metrics, the Central Limit Theorem (CLT), and confidence intervals."
   ]
  },
  {
   "cell_type": "markdown",
   "id": "2d230d14",
   "metadata": {
    "tags": []
   },
   "source": [
    "## Learning objectives\n",
    "\n",
    "By the end of this notebook, you should be able to:\n",
    "- Differentiate between sample and population metrics,\n",
    "- Understand where the Central Limit theorem is utilised, and\n",
    "- Describe the function and measurement of confidence intervals."
   ]
  },
  {
   "cell_type": "markdown",
   "id": "de45a481",
   "metadata": {},
   "source": [
    "## Exercises\n",
    "\n",
    "Suppose we are data scientists working for an environmental organisation. Our task is to analyse data related to forest areas across different regions to help formulate conservation strategies. The dataset includes forest areas (in square kilometers) from over 1000 regions worldwide."
   ]
  },
  {
   "cell_type": "markdown",
   "id": "5a0b7683",
   "metadata": {
    "tags": []
   },
   "source": [
    "### Exercise 1\n",
    "\n",
    "We are working with a dataset that contains information about different species found in national parks around the world. The dataset includes data on the number of individual animals of each species found in these parks.\n",
    "\n",
    "Task: Calculate the population mean (`population_mean`) and variance (`population_variance`) of the species count."
   ]
  },
  {
   "cell_type": "code",
   "execution_count": 16,
   "id": "c2ee76ec",
   "metadata": {},
   "outputs": [
    {
     "name": "stdout",
     "output_type": "stream",
     "text": [
      "Population Mean: 5378.98\n",
      "Population Variance: 7517438.4416000135\n"
     ]
    }
   ],
   "source": [
    "import pandas as pd\n",
    "import numpy as np\n",
    "\n",
    "# Generating random data. Fixed seed for reproducibility\n",
    "np.random.seed(0)\n",
    "forest_areas = np.random.randint(500, 10000, size=1000)  # Forest areas in sq km\n",
    "regions = ['Region' + str(i) for i in range(1, 1001)]\n",
    "\n",
    "# Creating a dictionary\n",
    "data = {'Region': regions, 'Forest_Area': forest_areas}\n",
    "\n",
    "# Converting to a pandas DataFrame\n",
    "df = pd.DataFrame(data)\n",
    "\n",
    "# insert code here\n",
    "population_mean = np.mean(df['Forest_Area'])\n",
    "population_variance = np.var(df['Forest_Area'], ddof=0)\n",
    "\n",
    "print(f'Population Mean: {population_mean}\\n'\\\n",
    "      f'Population Variance: {population_variance}')"
   ]
  },
  {
   "cell_type": "markdown",
   "id": "dc9b7dc6",
   "metadata": {},
   "source": [
    "### Exercise 2\n",
    "\n",
    "Select a random sample of 30 regions from the dataset and calculate sample mean and variance. Compare these with population metrics."
   ]
  },
  {
   "cell_type": "code",
   "execution_count": 21,
   "id": "ae48fab0",
   "metadata": {},
   "outputs": [
    {
     "name": "stdout",
     "output_type": "stream",
     "text": [
      "Population mean: 5378.98\n",
      "Sample mean: 4044.366666666667\n",
      "Population variance: 7517438.4416000135\n",
      "Sample variance: 6194691.895402299\n"
     ]
    }
   ],
   "source": [
    "# insert code here\n",
    "sample_df = df.sample(30, axis=0)\n",
    "\n",
    "sample_mean = sample_df['Forest_Area'].mean()\n",
    "sample_variance = sample_df['Forest_Area'].var(ddof=1)\n",
    "\n",
    "print(f'Population mean: {population_mean}\\n'\\\n",
    "      f'Sample mean: {sample_mean}\\n'\\\n",
    "      f'Population variance: {population_variance}\\n'\\\n",
    "      f'Sample variance: {sample_variance}')"
   ]
  },
  {
   "cell_type": "markdown",
   "id": "07ab1a9d",
   "metadata": {},
   "source": [
    "### Exercise 3\n",
    "\n",
    "Demonstrate the Central Limit Theorem (CLT) by plotting the distribution of sample means."
   ]
  },
  {
   "cell_type": "code",
   "execution_count": 29,
   "id": "3a13735c",
   "metadata": {},
   "outputs": [
    {
     "data": {
      "image/png": "[encoded data removed]",
      "text/plain": [
       "<Figure size 640x480 with 1 Axes>"
      ]
     },
     "metadata": {},
     "output_type": "display_data"
    }
   ],
   "source": [
    "# insert code \n",
    "import matplotlib.pyplot as plt\n",
    "\n",
    "sample_means = [df['Forest_Area'].sample(30).mean() for _ in range(1000)]\n",
    "plt.hist(sample_means, bins=100)\n",
    "\n",
    "plt.xlabel('Sample Mean')\n",
    "plt.ylabel('Frequency')\n",
    "plt.title('Distribution of Sample Means')\n",
    "plt.show()"
   ]
  },
  {
   "cell_type": "markdown",
   "id": "4a247050",
   "metadata": {},
   "source": [
    "### Exercise 4\n",
    "\n",
    "Calculate a 95% confidence interval for the mean of a sample."
   ]
  },
  {
   "cell_type": "code",
   "execution_count": 32,
   "id": "c7edcc97",
   "metadata": {},
   "outputs": [
    {
     "name": "stdout",
     "output_type": "stream",
     "text": [
      "95% confidence interval of population mean: (5625.5894638961445, 7523.877202770523)\n"
     ]
    }
   ],
   "source": [
    "# insert code here\n",
    "import scipy.stats as stats\n",
    "\n",
    "sample_forest_areas = df['Forest_Area'].sample(30)\n",
    "\n",
    "confidence_level = 0.95\n",
    "sample_mean = sample_forest_areas.mean()\n",
    "sample_se = stats.sem(sample_forest_areas)\n",
    "degrees_of_freedom = len(sample_forest_areas) - 1\n",
    "\n",
    "confidence_interval = stats.t.interval(0.95, degrees_of_freedom, sample_mean, sample_se)\n",
    "\n",
    "print(f'95% confidence interval of population mean: {confidence_interval}')"
   ]
  },
  {
   "cell_type": "markdown",
   "id": "555dea0d",
   "metadata": {},
   "source": [
    "## Solutions"
   ]
  },
  {
   "cell_type": "markdown",
   "id": "9ff8f391",
   "metadata": {},
   "source": [
    "### Exercise 1\n",
    "\n",
    "The population mean and variance are calculated on the entire dataset. Here, `ddof=0` is used in variance calculation since it's the population variance.\n"
   ]
  },
  {
   "cell_type": "code",
   "execution_count": 7,
   "id": "ad52ad95",
   "metadata": {},
   "outputs": [
    {
     "name": "stdout",
     "output_type": "stream",
     "text": [
      "Population Mean: 5378.98\n",
      "Population Variance: 7517438.4416000135\n"
     ]
    }
   ],
   "source": [
    "# Calculate the population_mean and population_variance\n",
    "population_mean = df['Forest_Area'].mean()\n",
    "population_variance = df['Forest_Area'].var(ddof=0)\n",
    "\n",
    "print(\"Population Mean:\", population_mean)\n",
    "print(\"Population Variance:\", population_variance)"
   ]
  },
  {
   "cell_type": "markdown",
   "id": "a10363b6",
   "metadata": {},
   "source": [
    "### Exercise 2"
   ]
  },
  {
   "cell_type": "code",
   "execution_count": 11,
   "id": "09386d51",
   "metadata": {},
   "outputs": [
    {
     "name": "stdout",
     "output_type": "stream",
     "text": [
      "Sample mean: 4895.1\n",
      "Sample variance: 6513786.57586207\n",
      "\n",
      "Comparison:\n",
      "Difference in means: 483.8799999999992\n",
      "Difference in variances: 1003651.8657379439\n"
     ]
    }
   ],
   "source": [
    "# Select a random sample of 30 regions and calculate sample metrics\n",
    "sample = df.sample(30)\n",
    "sample_mean = sample['Forest_Area'].mean()\n",
    "sample_variance = sample['Forest_Area'].var(ddof=1)\n",
    "\n",
    "print(\"Sample mean:\", sample_mean)\n",
    "print(\"Sample variance:\", sample_variance)\n",
    "\n",
    "# Comparison with Population Metrics\n",
    "print(\"\\nComparison:\")\n",
    "print(\"Difference in means:\", population_mean - sample_mean)\n",
    "print(\"Difference in variances:\", population_variance - sample_variance)\n"
   ]
  },
  {
   "cell_type": "markdown",
   "id": "ff325262",
   "metadata": {},
   "source": [
    "In the code snippet above:\n",
    "* `df.sample(30)` randomly picks 30 entries from the DataFrame `df`. This subset represents a sample of the entire population (all regions in the dataset).\n",
    "* `sample_mean` is the average forest area across the 30 randomly selected regions. \n",
    "* `sample_variance` measures how much the forest areas in our sample vary or spread out from the sample mean. The parameter `ddof=1` (degrees of freedom) is used here to make the variance estimate unbiased. \n",
    "* When calculating variance for a sample, dividing by `N-1` (where `N` is the sample size) instead of `N` corrects for the fact that we are working with a sample, not the entire population. This adjustment is known as **Bessel's correction**.\n",
    "* **Difference in means** is the difference between the population mean and the sample mean. It shows how the average forest area of our sample compares to the average forest area of the entire dataset.\n",
    "* **Difference in variances** is the difference between the population variance and the sample variance. It indicates how the variability of forest areas in our sample compares to the variability in the entire dataset."
   ]
  },
  {
   "cell_type": "markdown",
   "id": "23216513",
   "metadata": {},
   "source": [
    "### Exercise 3"
   ]
  },
  {
   "cell_type": "code",
   "execution_count": null,
   "id": "0df8e68d",
   "metadata": {},
   "outputs": [],
   "source": [
    "import matplotlib.pyplot as plt\n",
    "\n",
    "# Take 100 samples of size 30 and plot their mean distribution\n",
    "sample_means = [df['Forest_Area'].sample(30).mean() for _ in range(100)]\n",
    "\n",
    "plt.hist(sample_means, bins=10, edgecolor='black')\n",
    "plt.xlabel('Sample Mean')\n",
    "plt.ylabel('Frequency')\n",
    "plt.title('Distribution of Sample Means')\n",
    "plt.show()\n"
   ]
  },
  {
   "cell_type": "markdown",
   "id": "a8bbc13f",
   "metadata": {},
   "source": [
    "The distribution of sample means will approximate a normal distribution, as evidenced by the histogram, even if the population distribution is not normal."
   ]
  },
  {
   "cell_type": "markdown",
   "id": "e9956efe",
   "metadata": {
    "tags": []
   },
   "source": [
    "### Exercise 4 "
   ]
  },
  {
   "cell_type": "code",
   "execution_count": null,
   "id": "2e43b6e8",
   "metadata": {},
   "outputs": [],
   "source": [
    "import scipy.stats as stats\n",
    "\n",
    "# Select a sample (reuse sample from Exercise 2 or select a new one)\n",
    "sample_data = sample['Forest_Area']\n",
    "\n",
    "# Calculate 95% confidence interval for the sample mean\n",
    "mean = np.mean(sample_data)\n",
    "standard_error = stats.sem(sample_data)\n",
    "confidence_level = 0.95\n",
    "degrees_freedom = len(sample_data) - 1\n",
    "confidence_interval = stats.t.interval(confidence_level, degrees_freedom, mean, standard_error)\n",
    "\n",
    "print(\"95% Confidence Interval:\", confidence_interval)\n"
   ]
  },
  {
   "cell_type": "markdown",
   "id": "26fd094b-0fee-46f1-a4b8-73766813c42b",
   "metadata": {
    "tags": []
   },
   "source": [
    "#  \n",
    "\n",
    "<div align=\"center\" style=\" font-size: 80%; text-align: center; margin: 0 auto\">\n",
    "<img src=\"https://raw.githubusercontent.com/Explore-AI/Pictures/master/ExploreAI_logos/EAI_Blue_Dark.png\"  style=\"width:200px\";/>\n",
    "</div>"
   ]
  }
 ],
 "metadata": {
  "kernelspec": {
   "display_name": "Python 3 (ipykernel)",
   "language": "python",
   "name": "python3"
  },
  "language_info": {
   "codemirror_mode": {
    "name": "ipython",
    "version": 3
   },
   "file_extension": ".py",
   "mimetype": "text/x-python",
   "name": "python",
   "nbconvert_exporter": "python",
   "pygments_lexer": "ipython3",
   "version": "3.11.7"
  }
 },
 "nbformat": 4,
 "nbformat_minor": 5
}
