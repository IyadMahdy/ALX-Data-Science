{
 "cells": [
  {
   "cell_type": "markdown",
   "id": "cd88ea27",
   "metadata": {},
   "source": [
    "<div align=\"center\" style=\" font-size: 80%; text-align: center; margin: 0 auto\">\n",
    "<img src=\"https://raw.githubusercontent.com/Explore-AI/Pictures/master/Python-Notebook-Banners/Exercise.png\"  style=\"display: block; margin-left: auto; margin-right: auto;\";/>\n",
    "</div>"
   ]
  },
  {
   "cell_type": "markdown",
   "id": "f662d169",
   "metadata": {},
   "source": [
    "# Exercise: Probability and distributions\n",
    "© ExploreAI Academy"
   ]
  },
  {
   "cell_type": "markdown",
   "id": "26af890c",
   "metadata": {},
   "source": [
    "In this exercise, we test our understanding of statistical concepts, probability, and different types of distributions that can be used to analyse data using the stats package script in Python.\n",
    "\n"
   ]
  },
  {
   "cell_type": "markdown",
   "id": "2d230d14",
   "metadata": {
    "tags": []
   },
   "source": [
    "## Learning objectives\n",
    "\n",
    "In this train, we will learn:\n",
    "- Understand how to calculate basic statistical measures in Python.\n",
    "- Learn how to calculate different probability distributions using the Scipy library.\n",
    "- Apply statistical methods in Python to solve real-world scenarios."
   ]
  },
  {
   "cell_type": "markdown",
   "id": "de45a481",
   "metadata": {},
   "source": [
    "## Exercises"
   ]
  },
  {
   "cell_type": "markdown",
   "id": "5a0b7683",
   "metadata": {
    "tags": []
   },
   "source": [
    "### Exercise 1\n",
    "\n",
    "Given a 1D Numpy array `temperatures` representing the daily average temperatures (in degrees Celsius) of a month, write a Python function named `describe_temperatures` that returns the mean, median, and standard deviation of the temperatures.\n"
   ]
  },
  {
   "cell_type": "code",
   "execution_count": 1,
   "id": "521a4a2f",
   "metadata": {},
   "outputs": [],
   "source": [
    "import numpy as np\n",
    "\n",
    "temperatures = np.array([22, 25, 19, 21, 24, 28, 23, 20])"
   ]
  },
  {
   "cell_type": "code",
   "execution_count": 5,
   "id": "c2ee76ec",
   "metadata": {},
   "outputs": [
    {
     "data": {
      "text/plain": [
       "(22.75, 22.5, 2.7271780286589284)"
      ]
     },
     "execution_count": 5,
     "metadata": {},
     "output_type": "execute_result"
    }
   ],
   "source": [
    "def describe_temperatures(temperatures):\n",
    "    # insert code here\n",
    "    return np.mean(temperatures), np.median(temperatures), np.std(temperatures)\n",
    "describe_temperatures(temperatures)"
   ]
  },
  {
   "cell_type": "markdown",
   "id": "dc9b7dc6",
   "metadata": {},
   "source": [
    "### Exercise 2\n",
    "\n",
    "Write a Python snippet that calculates the probability of observing a rare bird species at least once in a week in a national park, given the daily observation probability is 0.1. Use the binomial distribution from `scipy.stats`.\n"
   ]
  },
  {
   "cell_type": "code",
   "execution_count": 10,
   "id": "ae48fab0",
   "metadata": {},
   "outputs": [
    {
     "name": "stdout",
     "output_type": "stream",
     "text": [
      "Probability of observing the bird at least once in a week: 0.5217031000000001\n"
     ]
    }
   ],
   "source": [
    "from scipy.stats import binom\n",
    "\n",
    "n = 7  # Number of days in a week\n",
    "p = 0.1  # Daily observation probability\n",
    "\n",
    "# insert code here\n",
    "px = binom.pmf(0, n, p)\n",
    "print(f'Probability of observing the bird at least once in a week: {1-px}')"
   ]
  },
  {
   "cell_type": "markdown",
   "id": "79a7e675",
   "metadata": {},
   "source": [
    "### Exercise 3\n",
    "\n",
    "Consider a discrete random variable `X`, which denotes the number of households in a neighbourhood that recycle out of 10 households. Assume that the recycling behaviours of the households are independent of each other and follow a binomial distribution, with each household having a fixed probability of 0.75 on deciding to recycle. Write a Python code snippet that calculates and plots the probability mass function (PMF) of `X`."
   ]
  },
  {
   "cell_type": "code",
   "execution_count": 14,
   "id": "7dcf1acc",
   "metadata": {},
   "outputs": [
    {
     "data": {
      "image/png": "[encoded data removed]",
      "text/plain": [
       "<Figure size 640x480 with 1 Axes>"
      ]
     },
     "metadata": {},
     "output_type": "display_data"
    }
   ],
   "source": [
    "import matplotlib.pyplot as plt\n",
    "from scipy.stats import binom\n",
    "\n",
    "n = 10  # Number of households\n",
    "p = 0.75  # Probability of a household recycling\n",
    "\n",
    "# insert code here\n",
    "x = np.arange(0,11)\n",
    "px = binom.pmf(x, n, p)\n",
    "\n",
    "plt.plot(x, px, 'k')\n",
    "plt.xlabel('Number of households')\n",
    "plt.ylabel('Probability of recycling')\n",
    "plt.show()"
   ]
  },
  {
   "cell_type": "markdown",
   "id": "dd8f0d20",
   "metadata": {},
   "source": [
    "### Exercise 4\n",
    "\n",
    "Model the time between discoveries of new species in a rainforest using an exponential distribution with a mean discovery rate of 0.3 species per year. Write a Python snippet that calculates the probability of discovering a new species within the next 2 years.\n"
   ]
  },
  {
   "cell_type": "code",
   "execution_count": 15,
   "id": "12ec5c79",
   "metadata": {},
   "outputs": [
    {
     "data": {
      "text/plain": [
       "0.4511883639059735"
      ]
     },
     "execution_count": 15,
     "metadata": {},
     "output_type": "execute_result"
    }
   ],
   "source": [
    "from scipy.stats import expon\n",
    "\n",
    "rate = 0.3  # Mean discovery rate\n",
    "time_period = 2  # Time period in years\n",
    "\n",
    "# insert code here\n",
    "px = expon.cdf(time_period, scale=1/rate)\n",
    "px"
   ]
  },
  {
   "cell_type": "markdown",
   "id": "a4be6432",
   "metadata": {},
   "source": [
    "### Exercise 5\n",
    "\n",
    "Given the `flow_rates` of daily river flow rates (in cubic metres per second), assumed to follow a normal distribution, write a Python function to calculate the probability of the flow rate exceeding a specific value (e.g. flood risk assessment).\n"
   ]
  },
  {
   "cell_type": "code",
   "execution_count": 28,
   "id": "fc8908db",
   "metadata": {},
   "outputs": [
    {
     "data": {
      "text/plain": [
       "0.43090221652450544"
      ]
     },
     "execution_count": 28,
     "metadata": {},
     "output_type": "execute_result"
    }
   ],
   "source": [
    "from scipy.stats import norm\n",
    "\n",
    "flow_rates = np.array([450, 500, 550, 600, 650, 700, 750, 800, 850, 900]) # Example data for a year\n",
    "threshold = 700\n",
    "\n",
    "def flood_risk_probability(flow_rates, threshold):\n",
    "    # insert code here\n",
    "    mean, sd = np.mean(flow_rates), np.std(flow_rates)\n",
    "    px = norm.cdf(threshold, mean, sd)\n",
    "    return 1 - px\n",
    "\n",
    "flood_risk_probability(flow_rates, threshold)"
   ]
  },
  {
   "cell_type": "markdown",
   "id": "555dea0d",
   "metadata": {},
   "source": [
    "## Solutions"
   ]
  },
  {
   "cell_type": "markdown",
   "id": "9ff8f391",
   "metadata": {},
   "source": [
    "### Exercise 1\n",
    "\n",
    "The function `describe_temperatures` computes the mean, median, and standard deviation of the given temperature data. This helps in understanding the central tendency (mean, median) and variability (standard deviation) of temperature data.\n"
   ]
  },
  {
   "cell_type": "code",
   "execution_count": 6,
   "id": "ad52ad95",
   "metadata": {},
   "outputs": [
    {
     "data": {
      "text/plain": [
       "(22.75, 22.5, 2.7271780286589284)"
      ]
     },
     "execution_count": 6,
     "metadata": {},
     "output_type": "execute_result"
    }
   ],
   "source": [
    "import numpy as np\n",
    "\n",
    "def describe_temperatures(temperatures):\n",
    "    mean_temp = np.mean(temperatures)  # Calculate mean\n",
    "    median_temp = np.median(temperatures)  # Calculate median\n",
    "    std_temp = np.std(temperatures)  # Calculate standard deviation\n",
    "    return mean_temp, median_temp, std_temp\n",
    "\n",
    "# Testing the function\n",
    "temperatures = np.array([22, 25, 19, 21, 24, 28, 23, 20])\n",
    "describe_temperatures(temperatures)\n"
   ]
  },
  {
   "cell_type": "markdown",
   "id": "a10363b6",
   "metadata": {},
   "source": [
    "### Exercise 2\n",
    "\n",
    "The binomial distribution is suitable here because each day is an independent trial with two outcomes (observation or no observation). The final probability is computed by subtracting the probability of not observing the species at all (calculated by `binom.pmf(0, n, p)`) from `1`, which gives the probability of at least one observation during the week.\n"
   ]
  },
  {
   "cell_type": "code",
   "execution_count": 9,
   "id": "09386d51",
   "metadata": {},
   "outputs": [
    {
     "data": {
      "text/plain": [
       "0.5217031000000001"
      ]
     },
     "execution_count": 9,
     "metadata": {},
     "output_type": "execute_result"
    }
   ],
   "source": [
    "from scipy.stats import binom\n",
    "\n",
    "# Calculating the probability of observing the species at least once in a week\n",
    "n = 7  # Number of days in a week\n",
    "p = 0.1  # Daily observation probability\n",
    "probability = 1 - binom.pmf(0, n, p)  # Probability of observing at least once\n",
    "probability"
   ]
  },
  {
   "cell_type": "markdown",
   "id": "35b4b74e",
   "metadata": {},
   "source": [
    "### Exercise 3\n",
    "\n",
    "The `np.arange(0, n+1)` function generates an array of values from `0` to `n` (`10` in this case), representing all possible outcomes for the number of recycling households. The PMF for these outcomes is computed using `binom.pmf(x, n, p)`, and the results are then plotted as a bar chart, effectively visualising the probability of each outcome (from 0 to 10 recycling households) given a 75% chance of any individual household recycling."
   ]
  },
  {
   "cell_type": "code",
   "execution_count": 13,
   "id": "c1aa7fa4",
   "metadata": {},
   "outputs": [
    {
     "data": {
      "image/png": "[encoded data removed]",
      "text/plain": [
       "<Figure size 640x480 with 1 Axes>"
      ]
     },
     "metadata": {},
     "output_type": "display_data"
    }
   ],
   "source": [
    "import matplotlib.pyplot as plt\n",
    "from scipy.stats import binom\n",
    "\n",
    "n = 10  # Number of households\n",
    "p = 0.75  # Probability of a household recycling\n",
    "x = np.arange(0, n+1)  # Possible outcomes: 0 to n households\n",
    "pmf = binom.pmf(x, n, p)  # PMF calculation\n",
    "\n",
    "# Plotting PMF\n",
    "plt.bar(x, pmf)\n",
    "plt.xlabel('Number of Recycling Households')\n",
    "plt.ylabel('PMF')\n",
    "plt.title('Probability Mass Function for Recycling Households')\n",
    "plt.show()"
   ]
  },
  {
   "cell_type": "markdown",
   "id": "953bb80a",
   "metadata": {},
   "source": [
    "### Exercise 4\n",
    "\n",
    "The code calculates the cumulative probability of discovering a new species within a two-year period using an exponential distribution with a mean discovery rate of 0.3 species per year.\n",
    "\n"
   ]
  },
  {
   "cell_type": "code",
   "execution_count": null,
   "id": "9a2b9e96",
   "metadata": {},
   "outputs": [],
   "source": [
    "from scipy.stats import expon\n",
    "\n",
    "rate = 0.3  # Mean discovery rate\n",
    "time_period = 2  # Time period in years\n",
    "probability = expon.cdf(time_period, scale=1/rate)  # Probability of discovery within time period\n",
    "probability\n"
   ]
  },
  {
   "cell_type": "markdown",
   "id": "06849a68",
   "metadata": {},
   "source": [
    "### Exercise 5\n",
    "\n",
    "\n",
    "The flood_risk_probability function calculates the probability of river flow rates exceeding a specified threshold (700 cubic metres per second) based on a given set of flow rate data. It first determines the mean (`mu`) and standard deviation (`sigma`) of the provided `flow_rates` array. Then, using the cumulative distribution function (CDF) of the normal distribution (`norm.cdf`), it computes the probability that actual flow rates will be less than the threshold and subtracts this from 1 to get the probability of exceeding that threshold.\n"
   ]
  },
  {
   "cell_type": "code",
   "execution_count": 29,
   "id": "ff2da0e8",
   "metadata": {},
   "outputs": [
    {
     "name": "stdout",
     "output_type": "stream",
     "text": [
      "0.43090221652450544\n"
     ]
    }
   ],
   "source": [
    "from scipy.stats import norm\n",
    "\n",
    "def flood_risk_probability(flow_rates, threshold):\n",
    "    mu, sigma = np.mean(flow_rates), np.std(flow_rates)  # Calculate mean and std dev\n",
    "    probability = 1 - norm.cdf(threshold, mu, sigma)  # Probability of exceeding threshold\n",
    "    return probability\n",
    "\n",
    "# Testing the function with example data\n",
    "flow_rates = np.array([450, 500, 550, 600, 650, 700, 750, 800, 850, 900])\n",
    "threshold = 700\n",
    "print(flood_risk_probability(flow_rates, threshold))\n"
   ]
  },
  {
   "cell_type": "markdown",
   "id": "26fd094b-0fee-46f1-a4b8-73766813c42b",
   "metadata": {
    "tags": []
   },
   "source": [
    "#  \n",
    "\n",
    "<div align=\"center\" style=\" font-size: 80%; text-align: center; margin: 0 auto\">\n",
    "<img src=\"https://raw.githubusercontent.com/Explore-AI/Pictures/master/ExploreAI_logos/EAI_Blue_Dark.png\"  style=\"width:200px\";/>\n",
    "</div>"
   ]
  }
 ],
 "metadata": {
  "kernelspec": {
   "display_name": "Python 3 (ipykernel)",
   "language": "python",
   "name": "python3"
  },
  "language_info": {
   "codemirror_mode": {
    "name": "ipython",
    "version": 3
   },
   "file_extension": ".py",
   "mimetype": "text/x-python",
   "name": "python",
   "nbconvert_exporter": "python",
   "pygments_lexer": "ipython3",
   "version": "3.11.7"
  }
 },
 "nbformat": 4,
 "nbformat_minor": 5
}
