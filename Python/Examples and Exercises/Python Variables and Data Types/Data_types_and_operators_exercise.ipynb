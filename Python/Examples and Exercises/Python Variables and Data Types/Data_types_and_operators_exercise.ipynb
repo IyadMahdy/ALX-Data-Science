{
 "cells": [
  {
   "cell_type": "markdown",
   "id": "cdc30352",
   "metadata": {},
   "source": [
    "<div align=\"center\" style=\" font-size: 80%; text-align: center; margin: 0 auto\">\n",
    "<img src=\"https://raw.githubusercontent.com/Explore-AI/Pictures/master/Python-Notebook-Banners/Exercise.png\"  style=\"display: block; margin-left: auto; margin-right: auto;\";/>\n",
    "</div>"
   ]
  },
  {
   "cell_type": "markdown",
   "id": "f662d169",
   "metadata": {},
   "source": [
    "# Exercise: Data types and operators \n",
    "© ExploreAI Academy"
   ]
  },
  {
   "attachments": {},
   "cell_type": "markdown",
   "id": "26af890c",
   "metadata": {},
   "source": [
    "In this exercise, we'll get comfortable with using the different data types we've been introduced to as well as using the correct data types and operators to solve problems. \n",
    "\n"
   ]
  },
  {
   "cell_type": "markdown",
   "id": "2d230d14",
   "metadata": {
    "tags": []
   },
   "source": [
    "## Learning objectives\n",
    "\n",
    "In this train, we will practise:\n",
    "- How to declare variables, perform basic arithmetic operations, and print results using Python.\n",
    "- String manipulation, type casting, and solving practical problems. "
   ]
  },
  {
   "cell_type": "markdown",
   "id": "024c3c05",
   "metadata": {},
   "source": [
    "## Outline\n",
    "\n",
    "1. [Exercises](#exercises)\n",
    "    * [Exercise 1](#exercise-1)\n",
    "    * [Exercise 2](#exercise-2)\n",
    "    * [Exercise 3](#exercise-3)\n",
    "    * [Exercise 4](#exercise-4)\n",
    "    * [Comprehensive exercise](#comprehensive-exercise)\n",
    "2. [Solutions](#solutions)\n",
    "    * [Exercise 1](#exercise-1)\n",
    "    * [Exercise 2](#exercise-2)\n",
    "    * [Exercise 3](#exercise-3)\n",
    "    * [Exercise 4](#exercise-4)\n",
    "    * [Comprehensive exercise](#comprehensive-exercise)"
   ]
  },
  {
   "cell_type": "markdown",
   "id": "b00f3b4f",
   "metadata": {},
   "source": [
    "## Exercises"
   ]
  },
  {
   "attachments": {},
   "cell_type": "markdown",
   "id": "5a0b7683",
   "metadata": {
    "tags": []
   },
   "source": [
    "### Exercise 1\n",
    "\n",
    "Declare two variables, `num1` and `num2`, and assign them values of `15` and `7`, respectively. Calculate and store the result of their sum, difference, product, and division (as floating-point number), in separate variables. Print the newly created variables. "
   ]
  },
  {
   "cell_type": "code",
   "execution_count": 4,
   "id": "fa5d406f",
   "metadata": {},
   "outputs": [
    {
     "name": "stdout",
     "output_type": "stream",
     "text": [
      "22\n",
      "8\n",
      "105\n",
      "2.142857142857143\n"
     ]
    }
   ],
   "source": [
    "# Your solution here...\n",
    "num1 = 15\n",
    "num2 = 7\n",
    "\n",
    "addition = num1 + num2\n",
    "subtraction = num1 - num2\n",
    "product = num1 * num2\n",
    "division = num1 / num2\n",
    "\n",
    "print(addition)\n",
    "print(subtraction)\n",
    "print(product)\n",
    "print(division)"
   ]
  },
  {
   "cell_type": "markdown",
   "id": "488f292d",
   "metadata": {},
   "source": [
    "### Exercise 2\n",
    "\n",
    "Create two string variables, `first_name` and `last_name`, with your first and last names. Concatenate them to form a full name and assign it to a new variable `full_name`. Print the `full_name` in uppercase.\n"
   ]
  },
  {
   "cell_type": "code",
   "execution_count": 5,
   "id": "1ce55507",
   "metadata": {},
   "outputs": [
    {
     "name": "stdout",
     "output_type": "stream",
     "text": [
      "IYAD MAHDY\n"
     ]
    }
   ],
   "source": [
    "# Your solution here...\n",
    "first_name = \"Iyad\"\n",
    "last_name = \"Mahdy\"\n",
    "\n",
    "full_name = first_name + \" \" + last_name\n",
    "\n",
    "print(full_name.upper())"
   ]
  },
  {
   "cell_type": "markdown",
   "id": "7900be09",
   "metadata": {},
   "source": [
    "### Exercise 3\n",
    "\n",
    "You have a variable `num_of_books` storing the number of books you have read this month, but it's currently in the form of a string. Create a new variable `books_read` by casting `num_of_books` to an integer. Then calculate the average number of books read per week, assuming there are four weeks in a month. "
   ]
  },
  {
   "cell_type": "code",
   "execution_count": 7,
   "id": "015a22ab",
   "metadata": {},
   "outputs": [
    {
     "name": "stdout",
     "output_type": "stream",
     "text": [
      "Average books read per week: 3.75\n"
     ]
    }
   ],
   "source": [
    "# Your solution here...\n",
    "\n",
    "num_of_books = \"15\"\n",
    "\n",
    "books_read = int(num_of_books)\n",
    "\n",
    "avg_per_week = books_read / 4\n",
    "\n",
    "print(\"Average books read per week:\", avg_per_week)"
   ]
  },
  {
   "cell_type": "markdown",
   "id": "1028430c",
   "metadata": {},
   "source": [
    "### Exercise 4\n",
    "\n",
    "We have been given the following information about a person:\n",
    "\n",
    "- Name: John Doe\n",
    "- Age: 25\n",
    "- Height: 1.75 metres\n",
    "- Weight: 68.5 kilograms\n",
    "\n",
    "Create variables of appropriate data types to store this information. Then calculate the Body Mass Index (BMI) using the formula:\n",
    "\n",
    "$BMI = \\frac{{\\text{{Weight}}}}{{\\text{{Height}}^2}}$\n",
    "\n",
    "Print the result."
   ]
  },
  {
   "cell_type": "code",
   "execution_count": 14,
   "id": "40ed9da3",
   "metadata": {},
   "outputs": [
    {
     "name": "stdout",
     "output_type": "stream",
     "text": [
      "John Doe's BMI: 22.367346938775512\n"
     ]
    }
   ],
   "source": [
    "# Your solution here...\n",
    "name = str(\"John Doe\")\n",
    "age = int(25)\n",
    "height = float(1.75)\n",
    "weight = float(68.5)\n",
    "\n",
    "bmi = weight / (height ** 2)\n",
    "\n",
    "print(name + '\\'s', \"BMI:\", bmi)"
   ]
  },
  {
   "attachments": {},
   "cell_type": "markdown",
   "id": "22da9770",
   "metadata": {},
   "source": [
    "### Comprehensive exercise\n",
    "\n",
    "You are tasked with creating a program to manage inventory for a store. The program should have the following features:\n",
    "\n",
    "1. Create variables to store the following information:\n",
    "   - Product name (string)\n",
    "   - Initial quantity in stock (integer)\n",
    "   - Price per unit (float)\n",
    "   - Discount percentage (float)\n",
    "\n",
    "2. Perform the following operations:\n",
    "   - Calculate the total value of the initial stock (quantity * price per unit).\n",
    "   - Apply the discount to the total value and calculate the discounted value of stock.\n",
    "   - Update the quantity in stock based on new stock received (assume a shipment of 30 units).\n",
    "\n",
    "3. Display the results:\n",
    "   - Print a summary message that includes the product name, initial quantity, price per unit, discount percentage, total value, discounted value, and the updated quantity in stock."
   ]
  },
  {
   "cell_type": "code",
   "execution_count": 19,
   "id": "9dc09cbc",
   "metadata": {},
   "outputs": [
    {
     "name": "stdout",
     "output_type": "stream",
     "text": [
      "Product name: Widget XYZ\n",
      "Initial quantity: 100\n",
      "Price per unit: 12.5\n",
      "Discount percentage: 0.15\n",
      "Total value: 1250.0\n",
      "Discounted value: 1062.5\n",
      "Current quantity: 130\n"
     ]
    }
   ],
   "source": [
    "# Given the variables\n",
    "product_name = \"Widget XYZ\"\n",
    "initial_quantity = 100\n",
    "price_per_unit = 12.50\n",
    "discount_percentage = 0.15\n",
    "\n",
    "# Your solution here...\n",
    "total_value = initial_quantity * price_per_unit\n",
    "discounted_value = total_value - (total_value * discount_percentage)\n",
    "\n",
    "recieved_stock = 30\n",
    "current_quantity = initial_quantity + recieved_stock\n",
    "\n",
    "print(\"Product name:\", product_name)\n",
    "print(\"Initial quantity:\", initial_quantity)\n",
    "print(\"Price per unit:\", price_per_unit)\n",
    "print(\"Discount percentage:\", discount_percentage)\n",
    "print(\"Total value:\", total_value)\n",
    "print(\"Discounted value:\", discounted_value)\n",
    "print(\"Current quantity:\", current_quantity)\n"
   ]
  },
  {
   "cell_type": "markdown",
   "id": "a675bc0c",
   "metadata": {},
   "source": [
    "## Solutions"
   ]
  },
  {
   "cell_type": "markdown",
   "id": "c5c2f5c9",
   "metadata": {},
   "source": [
    "### Exercise 1\n"
   ]
  },
  {
   "cell_type": "code",
   "execution_count": 2,
   "id": "8cc1760a",
   "metadata": {},
   "outputs": [
    {
     "name": "stdout",
     "output_type": "stream",
     "text": [
      "Sum:  22\n",
      "Difference:  8\n",
      "Product:  105\n",
      "Division:  2.142857142857143\n"
     ]
    }
   ],
   "source": [
    "num1 = 15\n",
    "num2 = 7\n",
    "\n",
    "# Perform operations\n",
    "sum_result = num1 + num2\n",
    "difference_result = num1 - num2\n",
    "product_result = num1 * num2\n",
    "division_result = float(num1) / num2\n",
    "\n",
    "# Print the variables\n",
    "print(\"Sum: \", sum_result)\n",
    "print(\"Difference: \", difference_result)\n",
    "print(\"Product: \", product_result)\n",
    "print(\"Division: \", division_result)"
   ]
  },
  {
   "cell_type": "markdown",
   "id": "cffe1f59",
   "metadata": {},
   "source": [
    "### Exercise 2"
   ]
  },
  {
   "cell_type": "code",
   "execution_count": 6,
   "id": "4064b861",
   "metadata": {},
   "outputs": [
    {
     "name": "stdout",
     "output_type": "stream",
     "text": [
      "Full name in uppercase: JANE DOE\n"
     ]
    }
   ],
   "source": [
    "# Variable creation\n",
    "first_name = \"Jane\"\n",
    "last_name = \"Doe\"\n",
    "\n",
    "# String manipulation and concatenation\n",
    "full_name = first_name + \" \" + last_name\n",
    "\n",
    "# Display result in uppercase\n",
    "print(\"Full name in uppercase:\", full_name.upper())"
   ]
  },
  {
   "cell_type": "markdown",
   "id": "2c9713f5",
   "metadata": {},
   "source": [
    "### Exercise 3"
   ]
  },
  {
   "cell_type": "code",
   "execution_count": 8,
   "id": "ac7beaae",
   "metadata": {},
   "outputs": [
    {
     "name": "stdout",
     "output_type": "stream",
     "text": [
      "You have read an average of 3.75 books per week.\n"
     ]
    }
   ],
   "source": [
    "num_of_books = \"15\"\n",
    "\n",
    "# Casting to integer\n",
    "books_read = int(num_of_books)\n",
    "\n",
    "# Calculate average books read per week\n",
    "weeks_in_month = 4\n",
    "average_books_per_week = books_read / weeks_in_month\n",
    "\n",
    "# Print result\n",
    "print(\"You have read an average of \" + str(average_books_per_week) + \" books per week.\")"
   ]
  },
  {
   "cell_type": "markdown",
   "id": "a4738e07",
   "metadata": {},
   "source": [
    "### Exercise 4"
   ]
  },
  {
   "cell_type": "code",
   "execution_count": 10,
   "id": "369fdd43",
   "metadata": {},
   "outputs": [
    {
     "name": "stdout",
     "output_type": "stream",
     "text": [
      "John Doe's BMI is: 22.367346938775512\n"
     ]
    }
   ],
   "source": [
    "# Given information\n",
    "name = \"John Doe\"\n",
    "age = 25\n",
    "height = 1.75  # in metres\n",
    "weight = 68.5  # in kilograms\n",
    "\n",
    "# Calculate BMI\n",
    "bmi = weight / (height ** 2)\n",
    "\n",
    "# Print result\n",
    "print(str(name) + \"\\'s BMI is: \"+ str(bmi))"
   ]
  },
  {
   "attachments": {},
   "cell_type": "markdown",
   "id": "c31fcf7e",
   "metadata": {},
   "source": [
    "### Comprehensive exercise\n",
    "\n",
    "This comprehensive exercise integrates the creation of variables with different data types, mathematical operations, and string manipulation. It simulates a real-world scenario of managing inventory for a store and requires us to apply various concepts in a practical context."
   ]
  },
  {
   "cell_type": "code",
   "execution_count": 18,
   "id": "92ec91fe",
   "metadata": {},
   "outputs": [
    {
     "name": "stdout",
     "output_type": "stream",
     "text": [
      "Product name: Widget XYZ\n",
      "Initial quantity: 100\n",
      "Price per unit: $ 12.5\n",
      "Discount percentage: 15.0 %\n",
      "\n",
      "--- Results ---\n",
      "Total value of initial stock: $ 1250.0\n",
      "Discounted value: $ 1062.5\n",
      "Updated quantity in stock: 130\n"
     ]
    }
   ],
   "source": [
    "# Given the variables\n",
    "product_name = \"Widget XYZ\"\n",
    "initial_quantity = 100\n",
    "price_per_unit = 12.50\n",
    "discount_percentage = 0.15\n",
    "\n",
    "# Calculate total value of initial stock\n",
    "total_value = initial_quantity * price_per_unit\n",
    "\n",
    "# Apply discount and calculate discounted price\n",
    "discounted_value = total_value - (total_value * discount_percentage)\n",
    "\n",
    "# Update quantity based on new shipment\n",
    "new_shipment = 30\n",
    "updated_quantity = initial_quantity + new_shipment\n",
    "\n",
    "# Display results\n",
    "print(\"Product name:\", product_name)\n",
    "print(\"Initial quantity:\", initial_quantity)\n",
    "print(\"Price per unit: $\", price_per_unit)\n",
    "print(\"Discount percentage:\", discount_percentage * 100, \"%\")\n",
    "\n",
    "print(\"\\n--- Results ---\")\n",
    "print(\"Total value of initial stock: $\", total_value)\n",
    "print(\"Discounted value: $\", discounted_value)\n",
    "print(\"Updated quantity in stock:\", updated_quantity)"
   ]
  },
  {
   "cell_type": "markdown",
   "id": "26fd094b-0fee-46f1-a4b8-73766813c42b",
   "metadata": {
    "tags": []
   },
   "source": [
    "#  \n",
    "\n",
    "<div align=\"center\" style=\" font-size: 80%; text-align: center; margin: 0 auto\">\n",
    "<img src=\"https://raw.githubusercontent.com/Explore-AI/Pictures/master/ExploreAI_logos/EAI_Blue_Dark.png\"  style=\"width:200px\";/>\n",
    "</div>"
   ]
  }
 ],
 "metadata": {
  "kernelspec": {
   "display_name": "Python 3 (ipykernel)",
   "language": "python",
   "name": "python3"
  },
  "language_info": {
   "codemirror_mode": {
    "name": "ipython",
    "version": 3
   },
   "file_extension": ".py",
   "mimetype": "text/x-python",
   "name": "python",
   "nbconvert_exporter": "python",
   "pygments_lexer": "ipython3",
   "version": "3.11.7"
  }
 },
 "nbformat": 4,
 "nbformat_minor": 5
}
