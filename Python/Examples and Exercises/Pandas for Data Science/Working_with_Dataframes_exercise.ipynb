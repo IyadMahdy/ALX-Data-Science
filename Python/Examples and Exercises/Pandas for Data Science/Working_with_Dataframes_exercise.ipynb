{
 "cells": [
  {
   "cell_type": "markdown",
   "metadata": {
    "id": "Ee-v8I_P8rfp"
   },
   "source": [
    "<div align=\"center\" style=\" font-size: 80%; text-align: center; margin: 0 auto\">\n",
    "<img src=\"https://raw.githubusercontent.com/Explore-AI/Pictures/master/Python-Notebook-Banners/Exercise.png\"  style=\"display: block; margin-left: auto; margin-right: auto;\";/>\n",
    "</div>\n",
    "\n",
    "# Exercise: Working With Dataframes\n",
    "© ExploreAI Academy\n",
    "\n",
    "In this exercise, we'll be exploring some ways in which we can manipulate the data stored within a Pandas DataFrame."
   ]
  },
  {
   "cell_type": "markdown",
   "metadata": {
    "id": "ITqrvAqq8xSC"
   },
   "source": [
    "## Learning objectives\n",
    "\n",
    "By the end of this train, you should be able to:\n",
    "* Sort, filter, and group a Pandas DataFrame.\n",
    "* Create and delete columns in a Pandas DataFrame.\n",
    "* Transform a Pandas DataFrame."
   ]
  },
  {
   "cell_type": "markdown",
   "metadata": {},
   "source": [
    "## Exercises"
   ]
  },
  {
   "cell_type": "markdown",
   "metadata": {},
   "source": [
    "### Import libraries and dataset"
   ]
  },
  {
   "cell_type": "code",
   "execution_count": 1,
   "metadata": {},
   "outputs": [],
   "source": [
    "import pandas as pd\n",
    "import numpy as np"
   ]
  },
  {
   "cell_type": "markdown",
   "metadata": {},
   "source": [
    "We are using a dataset named `Animals.csv` that stores information about a variety of animal species."
   ]
  },
  {
   "cell_type": "code",
   "execution_count": 2,
   "metadata": {},
   "outputs": [],
   "source": [
    "animal_df = pd.read_csv('https://raw.githubusercontent.com/Explore-AI/Public-Data/master/Data/Python/Animals.csv')"
   ]
  },
  {
   "cell_type": "markdown",
   "metadata": {},
   "source": [
    "### Exercise 1\n",
    "\n",
    "Filter the dataset to show only species that have an `Average Lifespan (Years)` **greater than 20** and are classified as `Vulnerable` in `Conservation Status`."
   ]
  },
  {
   "cell_type": "code",
   "execution_count": 8,
   "metadata": {},
   "outputs": [
    {
     "data": {
      "text/html": [
       "<div>\n",
       "<style scoped>\n",
       "    .dataframe tbody tr th:only-of-type {\n",
       "        vertical-align: middle;\n",
       "    }\n",
       "\n",
       "    .dataframe tbody tr th {\n",
       "        vertical-align: top;\n",
       "    }\n",
       "\n",
       "    .dataframe thead th {\n",
       "        text-align: right;\n",
       "    }\n",
       "</style>\n",
       "<table border=\"1\" class=\"dataframe\">\n",
       "  <thead>\n",
       "    <tr style=\"text-align: right;\">\n",
       "      <th></th>\n",
       "      <th>Species</th>\n",
       "      <th>Average Lifespan (Years)</th>\n",
       "      <th>Habitat</th>\n",
       "      <th>Conservation Status</th>\n",
       "    </tr>\n",
       "  </thead>\n",
       "  <tbody>\n",
       "    <tr>\n",
       "      <th>0</th>\n",
       "      <td>African Elephant</td>\n",
       "      <td>60</td>\n",
       "      <td>Grasslands</td>\n",
       "      <td>Vulnerable</td>\n",
       "    </tr>\n",
       "    <tr>\n",
       "      <th>4</th>\n",
       "      <td>Komodo Dragon</td>\n",
       "      <td>30</td>\n",
       "      <td>Islands</td>\n",
       "      <td>Vulnerable</td>\n",
       "    </tr>\n",
       "    <tr>\n",
       "      <th>5</th>\n",
       "      <td>Polar Bear</td>\n",
       "      <td>25</td>\n",
       "      <td>Arctic</td>\n",
       "      <td>Vulnerable</td>\n",
       "    </tr>\n",
       "  </tbody>\n",
       "</table>\n",
       "</div>"
      ],
      "text/plain": [
       "            Species  Average Lifespan (Years)     Habitat Conservation Status\n",
       "0  African Elephant                        60  Grasslands          Vulnerable\n",
       "4     Komodo Dragon                        30     Islands          Vulnerable\n",
       "5        Polar Bear                        25      Arctic          Vulnerable"
      ]
     },
     "execution_count": 8,
     "metadata": {},
     "output_type": "execute_result"
    }
   ],
   "source": [
    "# Your solution here...\n",
    "animal_df[(animal_df[\"Average Lifespan (Years)\"] > 20) & (animal_df[\"Conservation Status\"] == \"Vulnerable\")]"
   ]
  },
  {
   "cell_type": "markdown",
   "metadata": {},
   "source": [
    "### Exercise 2\n",
    "\n",
    "**a)** Create a new column `Lifespan in Months` by converting the `Average Lifespan (Years)` to months.\n"
   ]
  },
  {
   "cell_type": "code",
   "execution_count": 10,
   "metadata": {},
   "outputs": [
    {
     "data": {
      "text/html": [
       "<div>\n",
       "<style scoped>\n",
       "    .dataframe tbody tr th:only-of-type {\n",
       "        vertical-align: middle;\n",
       "    }\n",
       "\n",
       "    .dataframe tbody tr th {\n",
       "        vertical-align: top;\n",
       "    }\n",
       "\n",
       "    .dataframe thead th {\n",
       "        text-align: right;\n",
       "    }\n",
       "</style>\n",
       "<table border=\"1\" class=\"dataframe\">\n",
       "  <thead>\n",
       "    <tr style=\"text-align: right;\">\n",
       "      <th></th>\n",
       "      <th>Species</th>\n",
       "      <th>Average Lifespan (Years)</th>\n",
       "      <th>Habitat</th>\n",
       "      <th>Conservation Status</th>\n",
       "      <th>Lifespan in Months</th>\n",
       "    </tr>\n",
       "  </thead>\n",
       "  <tbody>\n",
       "    <tr>\n",
       "      <th>0</th>\n",
       "      <td>African Elephant</td>\n",
       "      <td>60</td>\n",
       "      <td>Grasslands</td>\n",
       "      <td>Vulnerable</td>\n",
       "      <td>720</td>\n",
       "    </tr>\n",
       "    <tr>\n",
       "      <th>1</th>\n",
       "      <td>Bengal Tiger</td>\n",
       "      <td>15</td>\n",
       "      <td>Forests</td>\n",
       "      <td>Endangered</td>\n",
       "      <td>180</td>\n",
       "    </tr>\n",
       "    <tr>\n",
       "      <th>2</th>\n",
       "      <td>Blue Whale</td>\n",
       "      <td>80</td>\n",
       "      <td>Ocean</td>\n",
       "      <td>Endangered</td>\n",
       "      <td>960</td>\n",
       "    </tr>\n",
       "    <tr>\n",
       "      <th>3</th>\n",
       "      <td>Giant Panda</td>\n",
       "      <td>20</td>\n",
       "      <td>Temperate Forest</td>\n",
       "      <td>Vulnerable</td>\n",
       "      <td>240</td>\n",
       "    </tr>\n",
       "    <tr>\n",
       "      <th>4</th>\n",
       "      <td>Komodo Dragon</td>\n",
       "      <td>30</td>\n",
       "      <td>Islands</td>\n",
       "      <td>Vulnerable</td>\n",
       "      <td>360</td>\n",
       "    </tr>\n",
       "  </tbody>\n",
       "</table>\n",
       "</div>"
      ],
      "text/plain": [
       "            Species  Average Lifespan (Years)           Habitat  \\\n",
       "0  African Elephant                        60        Grasslands   \n",
       "1      Bengal Tiger                        15           Forests   \n",
       "2        Blue Whale                        80             Ocean   \n",
       "3       Giant Panda                        20  Temperate Forest   \n",
       "4     Komodo Dragon                        30           Islands   \n",
       "\n",
       "  Conservation Status  Lifespan in Months  \n",
       "0          Vulnerable                 720  \n",
       "1          Endangered                 180  \n",
       "2          Endangered                 960  \n",
       "3          Vulnerable                 240  \n",
       "4          Vulnerable                 360  "
      ]
     },
     "execution_count": 10,
     "metadata": {},
     "output_type": "execute_result"
    }
   ],
   "source": [
    "# Your solution here...\n",
    "animal_df[\"Lifespan in Months\"] = animal_df[\"Average Lifespan (Years)\"] * 12\n",
    "animal_df.head()"
   ]
  },
  {
   "cell_type": "markdown",
   "metadata": {},
   "source": [
    "**b)** Delete the `Lifespan in Months` column from the DataFrame."
   ]
  },
  {
   "cell_type": "code",
   "execution_count": 12,
   "metadata": {},
   "outputs": [
    {
     "data": {
      "text/html": [
       "<div>\n",
       "<style scoped>\n",
       "    .dataframe tbody tr th:only-of-type {\n",
       "        vertical-align: middle;\n",
       "    }\n",
       "\n",
       "    .dataframe tbody tr th {\n",
       "        vertical-align: top;\n",
       "    }\n",
       "\n",
       "    .dataframe thead th {\n",
       "        text-align: right;\n",
       "    }\n",
       "</style>\n",
       "<table border=\"1\" class=\"dataframe\">\n",
       "  <thead>\n",
       "    <tr style=\"text-align: right;\">\n",
       "      <th></th>\n",
       "      <th>Species</th>\n",
       "      <th>Average Lifespan (Years)</th>\n",
       "      <th>Habitat</th>\n",
       "      <th>Conservation Status</th>\n",
       "    </tr>\n",
       "  </thead>\n",
       "  <tbody>\n",
       "    <tr>\n",
       "      <th>0</th>\n",
       "      <td>African Elephant</td>\n",
       "      <td>60</td>\n",
       "      <td>Grasslands</td>\n",
       "      <td>Vulnerable</td>\n",
       "    </tr>\n",
       "    <tr>\n",
       "      <th>1</th>\n",
       "      <td>Bengal Tiger</td>\n",
       "      <td>15</td>\n",
       "      <td>Forests</td>\n",
       "      <td>Endangered</td>\n",
       "    </tr>\n",
       "    <tr>\n",
       "      <th>2</th>\n",
       "      <td>Blue Whale</td>\n",
       "      <td>80</td>\n",
       "      <td>Ocean</td>\n",
       "      <td>Endangered</td>\n",
       "    </tr>\n",
       "    <tr>\n",
       "      <th>3</th>\n",
       "      <td>Giant Panda</td>\n",
       "      <td>20</td>\n",
       "      <td>Temperate Forest</td>\n",
       "      <td>Vulnerable</td>\n",
       "    </tr>\n",
       "    <tr>\n",
       "      <th>4</th>\n",
       "      <td>Komodo Dragon</td>\n",
       "      <td>30</td>\n",
       "      <td>Islands</td>\n",
       "      <td>Vulnerable</td>\n",
       "    </tr>\n",
       "    <tr>\n",
       "      <th>5</th>\n",
       "      <td>Polar Bear</td>\n",
       "      <td>25</td>\n",
       "      <td>Arctic</td>\n",
       "      <td>Vulnerable</td>\n",
       "    </tr>\n",
       "    <tr>\n",
       "      <th>6</th>\n",
       "      <td>Red Fox</td>\n",
       "      <td>5</td>\n",
       "      <td>Various</td>\n",
       "      <td>Least Concern</td>\n",
       "    </tr>\n",
       "    <tr>\n",
       "      <th>7</th>\n",
       "      <td>Emperor Penguin</td>\n",
       "      <td>20</td>\n",
       "      <td>Antarctic</td>\n",
       "      <td>Near Threatened</td>\n",
       "    </tr>\n",
       "    <tr>\n",
       "      <th>8</th>\n",
       "      <td>Koala</td>\n",
       "      <td>13</td>\n",
       "      <td>Eucalyptus Forests</td>\n",
       "      <td>Vulnerable</td>\n",
       "    </tr>\n",
       "    <tr>\n",
       "      <th>9</th>\n",
       "      <td>Orangutan</td>\n",
       "      <td>35</td>\n",
       "      <td>Rainforests</td>\n",
       "      <td>Critically Endangered</td>\n",
       "    </tr>\n",
       "    <tr>\n",
       "      <th>10</th>\n",
       "      <td>Snow Leopard</td>\n",
       "      <td>15</td>\n",
       "      <td>Mountain Ranges</td>\n",
       "      <td>Vulnerable</td>\n",
       "    </tr>\n",
       "    <tr>\n",
       "      <th>11</th>\n",
       "      <td>Bald Eagle</td>\n",
       "      <td>20</td>\n",
       "      <td>Forests, Seacoasts</td>\n",
       "      <td>Least Concern</td>\n",
       "    </tr>\n",
       "    <tr>\n",
       "      <th>12</th>\n",
       "      <td>African Lion</td>\n",
       "      <td>14</td>\n",
       "      <td>Savanna</td>\n",
       "      <td>Vulnerable</td>\n",
       "    </tr>\n",
       "    <tr>\n",
       "      <th>13</th>\n",
       "      <td>Green Sea Turtle</td>\n",
       "      <td>80</td>\n",
       "      <td>Oceans, Beaches</td>\n",
       "      <td>Endangered</td>\n",
       "    </tr>\n",
       "    <tr>\n",
       "      <th>14</th>\n",
       "      <td>Gray Wolf</td>\n",
       "      <td>8</td>\n",
       "      <td>Forests, Tundra</td>\n",
       "      <td>Least Concern</td>\n",
       "    </tr>\n",
       "  </tbody>\n",
       "</table>\n",
       "</div>"
      ],
      "text/plain": [
       "             Species  Average Lifespan (Years)             Habitat  \\\n",
       "0   African Elephant                        60          Grasslands   \n",
       "1       Bengal Tiger                        15             Forests   \n",
       "2         Blue Whale                        80               Ocean   \n",
       "3        Giant Panda                        20    Temperate Forest   \n",
       "4      Komodo Dragon                        30             Islands   \n",
       "5         Polar Bear                        25              Arctic   \n",
       "6            Red Fox                         5             Various   \n",
       "7    Emperor Penguin                        20           Antarctic   \n",
       "8              Koala                        13  Eucalyptus Forests   \n",
       "9          Orangutan                        35         Rainforests   \n",
       "10      Snow Leopard                        15     Mountain Ranges   \n",
       "11        Bald Eagle                        20  Forests, Seacoasts   \n",
       "12      African Lion                        14             Savanna   \n",
       "13  Green Sea Turtle                        80     Oceans, Beaches   \n",
       "14         Gray Wolf                         8     Forests, Tundra   \n",
       "\n",
       "      Conservation Status  \n",
       "0              Vulnerable  \n",
       "1              Endangered  \n",
       "2              Endangered  \n",
       "3              Vulnerable  \n",
       "4              Vulnerable  \n",
       "5              Vulnerable  \n",
       "6           Least Concern  \n",
       "7         Near Threatened  \n",
       "8              Vulnerable  \n",
       "9   Critically Endangered  \n",
       "10             Vulnerable  \n",
       "11          Least Concern  \n",
       "12             Vulnerable  \n",
       "13             Endangered  \n",
       "14          Least Concern  "
      ]
     },
     "execution_count": 12,
     "metadata": {},
     "output_type": "execute_result"
    }
   ],
   "source": [
    "# Your solution here...\n",
    "animal_df = animal_df.drop(\"Lifespan in Months\", axis=1)\n",
    "animal_df"
   ]
  },
  {
   "cell_type": "markdown",
   "metadata": {},
   "source": [
    "### Exercise 3\n",
    "\n",
    "**a)** Filter the DataFrame `animal_df` to include only species with an `Average Lifespan (Years)` **greater than 50 years**. Store the result in a new DataFrame `Long_lived_species`."
   ]
  },
  {
   "cell_type": "code",
   "execution_count": 26,
   "metadata": {},
   "outputs": [
    {
     "data": {
      "text/html": [
       "<div>\n",
       "<style scoped>\n",
       "    .dataframe tbody tr th:only-of-type {\n",
       "        vertical-align: middle;\n",
       "    }\n",
       "\n",
       "    .dataframe tbody tr th {\n",
       "        vertical-align: top;\n",
       "    }\n",
       "\n",
       "    .dataframe thead th {\n",
       "        text-align: right;\n",
       "    }\n",
       "</style>\n",
       "<table border=\"1\" class=\"dataframe\">\n",
       "  <thead>\n",
       "    <tr style=\"text-align: right;\">\n",
       "      <th></th>\n",
       "      <th>Species</th>\n",
       "      <th>Average Lifespan (Years)</th>\n",
       "      <th>Habitat</th>\n",
       "      <th>Conservation Status</th>\n",
       "    </tr>\n",
       "  </thead>\n",
       "  <tbody>\n",
       "    <tr>\n",
       "      <th>0</th>\n",
       "      <td>African Elephant</td>\n",
       "      <td>60</td>\n",
       "      <td>Grasslands</td>\n",
       "      <td>Vulnerable</td>\n",
       "    </tr>\n",
       "    <tr>\n",
       "      <th>2</th>\n",
       "      <td>Blue Whale</td>\n",
       "      <td>80</td>\n",
       "      <td>Ocean</td>\n",
       "      <td>Endangered</td>\n",
       "    </tr>\n",
       "    <tr>\n",
       "      <th>13</th>\n",
       "      <td>Green Sea Turtle</td>\n",
       "      <td>80</td>\n",
       "      <td>Oceans, Beaches</td>\n",
       "      <td>Endangered</td>\n",
       "    </tr>\n",
       "  </tbody>\n",
       "</table>\n",
       "</div>"
      ],
      "text/plain": [
       "             Species  Average Lifespan (Years)          Habitat  \\\n",
       "0   African Elephant                        60       Grasslands   \n",
       "2         Blue Whale                        80            Ocean   \n",
       "13  Green Sea Turtle                        80  Oceans, Beaches   \n",
       "\n",
       "   Conservation Status  \n",
       "0           Vulnerable  \n",
       "2           Endangered  \n",
       "13          Endangered  "
      ]
     },
     "execution_count": 26,
     "metadata": {},
     "output_type": "execute_result"
    }
   ],
   "source": [
    "# Your solution here...\n",
    "Long_lived_species = animal_df[animal_df[\"Average Lifespan (Years)\"] > 50]\n",
    "Long_lived_species"
   ]
  },
  {
   "cell_type": "markdown",
   "metadata": {},
   "source": [
    "**b)** Using the `apply` and `lambda` functions, convert the `Average Lifespan (Years)` of all species into float data type in `Long_lived_species`."
   ]
  },
  {
   "cell_type": "code",
   "execution_count": 28,
   "metadata": {},
   "outputs": [
    {
     "name": "stdout",
     "output_type": "stream",
     "text": [
      "<class 'pandas.core.frame.DataFrame'>\n",
      "Index: 3 entries, 0 to 13\n",
      "Data columns (total 4 columns):\n",
      " #   Column                    Non-Null Count  Dtype  \n",
      "---  ------                    --------------  -----  \n",
      " 0   Species                   3 non-null      object \n",
      " 1   Average Lifespan (Years)  3 non-null      float64\n",
      " 2   Habitat                   3 non-null      object \n",
      " 3   Conservation Status       3 non-null      object \n",
      "dtypes: float64(1), object(3)\n",
      "memory usage: 120.0+ bytes\n"
     ]
    },
    {
     "name": "stderr",
     "output_type": "stream",
     "text": [
      "C:\\Users\\IyadM\\AppData\\Local\\Temp\\ipykernel_4452\\1801347611.py:2: SettingWithCopyWarning: \n",
      "A value is trying to be set on a copy of a slice from a DataFrame.\n",
      "Try using .loc[row_indexer,col_indexer] = value instead\n",
      "\n",
      "See the caveats in the documentation: https://pandas.pydata.org/pandas-docs/stable/user_guide/indexing.html#returning-a-view-versus-a-copy\n",
      "  Long_lived_species[\"Average Lifespan (Years)\"] = Long_lived_species[\"Average Lifespan (Years)\"].apply(lambda x: float(x))\n"
     ]
    }
   ],
   "source": [
    "# Your solution here...\n",
    "Long_lived_species[\"Average Lifespan (Years)\"] = Long_lived_species[\"Average Lifespan (Years)\"].apply(lambda x: float(x))\n",
    "Long_lived_species.info()"
   ]
  },
  {
   "cell_type": "markdown",
   "metadata": {},
   "source": [
    "### Exercise 4\n",
    "\n",
    "List all columns for species that have the string \"`Endangered`\" as part of their conservation status."
   ]
  },
  {
   "cell_type": "code",
   "execution_count": 32,
   "metadata": {},
   "outputs": [
    {
     "data": {
      "text/html": [
       "<div>\n",
       "<style scoped>\n",
       "    .dataframe tbody tr th:only-of-type {\n",
       "        vertical-align: middle;\n",
       "    }\n",
       "\n",
       "    .dataframe tbody tr th {\n",
       "        vertical-align: top;\n",
       "    }\n",
       "\n",
       "    .dataframe thead th {\n",
       "        text-align: right;\n",
       "    }\n",
       "</style>\n",
       "<table border=\"1\" class=\"dataframe\">\n",
       "  <thead>\n",
       "    <tr style=\"text-align: right;\">\n",
       "      <th></th>\n",
       "      <th>Species</th>\n",
       "      <th>Average Lifespan (Years)</th>\n",
       "      <th>Habitat</th>\n",
       "      <th>Conservation Status</th>\n",
       "    </tr>\n",
       "  </thead>\n",
       "  <tbody>\n",
       "    <tr>\n",
       "      <th>1</th>\n",
       "      <td>Bengal Tiger</td>\n",
       "      <td>15</td>\n",
       "      <td>Forests</td>\n",
       "      <td>Endangered</td>\n",
       "    </tr>\n",
       "    <tr>\n",
       "      <th>2</th>\n",
       "      <td>Blue Whale</td>\n",
       "      <td>80</td>\n",
       "      <td>Ocean</td>\n",
       "      <td>Endangered</td>\n",
       "    </tr>\n",
       "    <tr>\n",
       "      <th>9</th>\n",
       "      <td>Orangutan</td>\n",
       "      <td>35</td>\n",
       "      <td>Rainforests</td>\n",
       "      <td>Critically Endangered</td>\n",
       "    </tr>\n",
       "    <tr>\n",
       "      <th>13</th>\n",
       "      <td>Green Sea Turtle</td>\n",
       "      <td>80</td>\n",
       "      <td>Oceans, Beaches</td>\n",
       "      <td>Endangered</td>\n",
       "    </tr>\n",
       "  </tbody>\n",
       "</table>\n",
       "</div>"
      ],
      "text/plain": [
       "             Species  Average Lifespan (Years)          Habitat  \\\n",
       "1       Bengal Tiger                        15          Forests   \n",
       "2         Blue Whale                        80            Ocean   \n",
       "9          Orangutan                        35      Rainforests   \n",
       "13  Green Sea Turtle                        80  Oceans, Beaches   \n",
       "\n",
       "      Conservation Status  \n",
       "1              Endangered  \n",
       "2              Endangered  \n",
       "9   Critically Endangered  \n",
       "13             Endangered  "
      ]
     },
     "execution_count": 32,
     "metadata": {},
     "output_type": "execute_result"
    }
   ],
   "source": [
    "# Your solution here...\n",
    "animal_df[animal_df[\"Conservation Status\"].str.contains(\"Endangered\")]"
   ]
  },
  {
   "cell_type": "markdown",
   "metadata": {},
   "source": [
    "### Exercise 5\n",
    "\n",
    "List the mean `Average Lifespan (Years)` of species for each `Habitat` in descending order."
   ]
  },
  {
   "cell_type": "code",
   "execution_count": 38,
   "metadata": {},
   "outputs": [
    {
     "data": {
      "text/plain": [
       "Habitat\n",
       "Ocean                 80.0\n",
       "Oceans, Beaches       80.0\n",
       "Grasslands            60.0\n",
       "Rainforests           35.0\n",
       "Islands               30.0\n",
       "Arctic                25.0\n",
       "Antarctic             20.0\n",
       "Forests, Seacoasts    20.0\n",
       "Temperate Forest      20.0\n",
       "Forests               15.0\n",
       "Mountain Ranges       15.0\n",
       "Savanna               14.0\n",
       "Eucalyptus Forests    13.0\n",
       "Forests, Tundra        8.0\n",
       "Various                5.0\n",
       "Name: Average Lifespan (Years), dtype: float64"
      ]
     },
     "execution_count": 38,
     "metadata": {},
     "output_type": "execute_result"
    }
   ],
   "source": [
    "# Your solution here...\n",
    "animal_df.groupby([\"Habitat\"])[\"Average Lifespan (Years)\"].mean().sort_values(ascending=False)"
   ]
  },
  {
   "cell_type": "markdown",
   "metadata": {},
   "source": [
    "### Exercise 6\n",
    "\n",
    "Create a column `Threat Level` that categorises species into `High`, `Medium`, or `Low` based on their `Conservation Status`: \n",
    "- **High** for `Critically Endangered` and `Endangered` \n",
    "- **Medium** for `Vulnerable` and `Near Threatened`\n",
    "- **Low** for `Least Concern`"
   ]
  },
  {
   "cell_type": "code",
   "execution_count": 42,
   "metadata": {},
   "outputs": [
    {
     "data": {
      "text/html": [
       "<div>\n",
       "<style scoped>\n",
       "    .dataframe tbody tr th:only-of-type {\n",
       "        vertical-align: middle;\n",
       "    }\n",
       "\n",
       "    .dataframe tbody tr th {\n",
       "        vertical-align: top;\n",
       "    }\n",
       "\n",
       "    .dataframe thead th {\n",
       "        text-align: right;\n",
       "    }\n",
       "</style>\n",
       "<table border=\"1\" class=\"dataframe\">\n",
       "  <thead>\n",
       "    <tr style=\"text-align: right;\">\n",
       "      <th></th>\n",
       "      <th>Species</th>\n",
       "      <th>Average Lifespan (Years)</th>\n",
       "      <th>Habitat</th>\n",
       "      <th>Conservation Status</th>\n",
       "      <th>Threat Level</th>\n",
       "    </tr>\n",
       "  </thead>\n",
       "  <tbody>\n",
       "    <tr>\n",
       "      <th>0</th>\n",
       "      <td>African Elephant</td>\n",
       "      <td>60</td>\n",
       "      <td>Grasslands</td>\n",
       "      <td>Vulnerable</td>\n",
       "      <td>Medium</td>\n",
       "    </tr>\n",
       "    <tr>\n",
       "      <th>1</th>\n",
       "      <td>Bengal Tiger</td>\n",
       "      <td>15</td>\n",
       "      <td>Forests</td>\n",
       "      <td>Endangered</td>\n",
       "      <td>High</td>\n",
       "    </tr>\n",
       "    <tr>\n",
       "      <th>2</th>\n",
       "      <td>Blue Whale</td>\n",
       "      <td>80</td>\n",
       "      <td>Ocean</td>\n",
       "      <td>Endangered</td>\n",
       "      <td>High</td>\n",
       "    </tr>\n",
       "    <tr>\n",
       "      <th>3</th>\n",
       "      <td>Giant Panda</td>\n",
       "      <td>20</td>\n",
       "      <td>Temperate Forest</td>\n",
       "      <td>Vulnerable</td>\n",
       "      <td>Medium</td>\n",
       "    </tr>\n",
       "    <tr>\n",
       "      <th>4</th>\n",
       "      <td>Komodo Dragon</td>\n",
       "      <td>30</td>\n",
       "      <td>Islands</td>\n",
       "      <td>Vulnerable</td>\n",
       "      <td>Medium</td>\n",
       "    </tr>\n",
       "    <tr>\n",
       "      <th>5</th>\n",
       "      <td>Polar Bear</td>\n",
       "      <td>25</td>\n",
       "      <td>Arctic</td>\n",
       "      <td>Vulnerable</td>\n",
       "      <td>Medium</td>\n",
       "    </tr>\n",
       "    <tr>\n",
       "      <th>6</th>\n",
       "      <td>Red Fox</td>\n",
       "      <td>5</td>\n",
       "      <td>Various</td>\n",
       "      <td>Least Concern</td>\n",
       "      <td>Low</td>\n",
       "    </tr>\n",
       "    <tr>\n",
       "      <th>7</th>\n",
       "      <td>Emperor Penguin</td>\n",
       "      <td>20</td>\n",
       "      <td>Antarctic</td>\n",
       "      <td>Near Threatened</td>\n",
       "      <td>Medium</td>\n",
       "    </tr>\n",
       "    <tr>\n",
       "      <th>8</th>\n",
       "      <td>Koala</td>\n",
       "      <td>13</td>\n",
       "      <td>Eucalyptus Forests</td>\n",
       "      <td>Vulnerable</td>\n",
       "      <td>Medium</td>\n",
       "    </tr>\n",
       "    <tr>\n",
       "      <th>9</th>\n",
       "      <td>Orangutan</td>\n",
       "      <td>35</td>\n",
       "      <td>Rainforests</td>\n",
       "      <td>Critically Endangered</td>\n",
       "      <td>High</td>\n",
       "    </tr>\n",
       "    <tr>\n",
       "      <th>10</th>\n",
       "      <td>Snow Leopard</td>\n",
       "      <td>15</td>\n",
       "      <td>Mountain Ranges</td>\n",
       "      <td>Vulnerable</td>\n",
       "      <td>Medium</td>\n",
       "    </tr>\n",
       "    <tr>\n",
       "      <th>11</th>\n",
       "      <td>Bald Eagle</td>\n",
       "      <td>20</td>\n",
       "      <td>Forests, Seacoasts</td>\n",
       "      <td>Least Concern</td>\n",
       "      <td>Low</td>\n",
       "    </tr>\n",
       "    <tr>\n",
       "      <th>12</th>\n",
       "      <td>African Lion</td>\n",
       "      <td>14</td>\n",
       "      <td>Savanna</td>\n",
       "      <td>Vulnerable</td>\n",
       "      <td>Medium</td>\n",
       "    </tr>\n",
       "    <tr>\n",
       "      <th>13</th>\n",
       "      <td>Green Sea Turtle</td>\n",
       "      <td>80</td>\n",
       "      <td>Oceans, Beaches</td>\n",
       "      <td>Endangered</td>\n",
       "      <td>High</td>\n",
       "    </tr>\n",
       "    <tr>\n",
       "      <th>14</th>\n",
       "      <td>Gray Wolf</td>\n",
       "      <td>8</td>\n",
       "      <td>Forests, Tundra</td>\n",
       "      <td>Least Concern</td>\n",
       "      <td>Low</td>\n",
       "    </tr>\n",
       "  </tbody>\n",
       "</table>\n",
       "</div>"
      ],
      "text/plain": [
       "             Species  Average Lifespan (Years)             Habitat  \\\n",
       "0   African Elephant                        60          Grasslands   \n",
       "1       Bengal Tiger                        15             Forests   \n",
       "2         Blue Whale                        80               Ocean   \n",
       "3        Giant Panda                        20    Temperate Forest   \n",
       "4      Komodo Dragon                        30             Islands   \n",
       "5         Polar Bear                        25              Arctic   \n",
       "6            Red Fox                         5             Various   \n",
       "7    Emperor Penguin                        20           Antarctic   \n",
       "8              Koala                        13  Eucalyptus Forests   \n",
       "9          Orangutan                        35         Rainforests   \n",
       "10      Snow Leopard                        15     Mountain Ranges   \n",
       "11        Bald Eagle                        20  Forests, Seacoasts   \n",
       "12      African Lion                        14             Savanna   \n",
       "13  Green Sea Turtle                        80     Oceans, Beaches   \n",
       "14         Gray Wolf                         8     Forests, Tundra   \n",
       "\n",
       "      Conservation Status Threat Level  \n",
       "0              Vulnerable       Medium  \n",
       "1              Endangered         High  \n",
       "2              Endangered         High  \n",
       "3              Vulnerable       Medium  \n",
       "4              Vulnerable       Medium  \n",
       "5              Vulnerable       Medium  \n",
       "6           Least Concern          Low  \n",
       "7         Near Threatened       Medium  \n",
       "8              Vulnerable       Medium  \n",
       "9   Critically Endangered         High  \n",
       "10             Vulnerable       Medium  \n",
       "11          Least Concern          Low  \n",
       "12             Vulnerable       Medium  \n",
       "13             Endangered         High  \n",
       "14          Least Concern          Low  "
      ]
     },
     "execution_count": 42,
     "metadata": {},
     "output_type": "execute_result"
    }
   ],
   "source": [
    "# Your solution here...\n",
    "def categorise(status):\n",
    "    if status == \"Endangered\" or status == \"Critically Endangered\":\n",
    "        return \"High\"\n",
    "    elif status == \"Least Concern\":\n",
    "        return \"Low\"\n",
    "    else:\n",
    "        return \"Medium\"\n",
    "\n",
    "animal_df[\"Threat Level\"] = animal_df[\"Conservation Status\"].apply(categorise)\n",
    "animal_df"
   ]
  },
  {
   "cell_type": "markdown",
   "metadata": {},
   "source": [
    "## Solutions"
   ]
  },
  {
   "cell_type": "markdown",
   "metadata": {},
   "source": [
    "### Exercise 1"
   ]
  },
  {
   "cell_type": "code",
   "execution_count": 9,
   "metadata": {},
   "outputs": [
    {
     "data": {
      "text/html": [
       "<div>\n",
       "<style scoped>\n",
       "    .dataframe tbody tr th:only-of-type {\n",
       "        vertical-align: middle;\n",
       "    }\n",
       "\n",
       "    .dataframe tbody tr th {\n",
       "        vertical-align: top;\n",
       "    }\n",
       "\n",
       "    .dataframe thead th {\n",
       "        text-align: right;\n",
       "    }\n",
       "</style>\n",
       "<table border=\"1\" class=\"dataframe\">\n",
       "  <thead>\n",
       "    <tr style=\"text-align: right;\">\n",
       "      <th></th>\n",
       "      <th>Species</th>\n",
       "      <th>Average Lifespan (Years)</th>\n",
       "      <th>Habitat</th>\n",
       "      <th>Conservation Status</th>\n",
       "    </tr>\n",
       "  </thead>\n",
       "  <tbody>\n",
       "    <tr>\n",
       "      <th>0</th>\n",
       "      <td>African Elephant</td>\n",
       "      <td>60</td>\n",
       "      <td>Grasslands</td>\n",
       "      <td>Vulnerable</td>\n",
       "    </tr>\n",
       "    <tr>\n",
       "      <th>4</th>\n",
       "      <td>Komodo Dragon</td>\n",
       "      <td>30</td>\n",
       "      <td>Islands</td>\n",
       "      <td>Vulnerable</td>\n",
       "    </tr>\n",
       "    <tr>\n",
       "      <th>5</th>\n",
       "      <td>Polar Bear</td>\n",
       "      <td>25</td>\n",
       "      <td>Arctic</td>\n",
       "      <td>Vulnerable</td>\n",
       "    </tr>\n",
       "  </tbody>\n",
       "</table>\n",
       "</div>"
      ],
      "text/plain": [
       "            Species  Average Lifespan (Years)     Habitat Conservation Status\n",
       "0  African Elephant                        60  Grasslands          Vulnerable\n",
       "4     Komodo Dragon                        30     Islands          Vulnerable\n",
       "5        Polar Bear                        25      Arctic          Vulnerable"
      ]
     },
     "execution_count": 9,
     "metadata": {},
     "output_type": "execute_result"
    }
   ],
   "source": [
    "# Filter the DataFrame based on two conditions\n",
    "filtered_df = animal_df[(animal_df['Average Lifespan (Years)'] > 20) & (animal_df['Conservation Status'] == 'Vulnerable')]\n",
    "\n",
    "# Display the filtered DataFrame\n",
    "filtered_df"
   ]
  },
  {
   "cell_type": "markdown",
   "metadata": {},
   "source": [
    "We filter our DataFrame based on two conditions that are combined using the `&` operator:\n",
    "- The first part of the condition, `(animal_df['Average Lifespan (Years)'] > 20)`, selects rows where the average lifespan is over 20 years.\n",
    "- The second part, `(animal_df['Conservation Status'] == 'Vulnerable')`, selects rows where the conservation status is equal to 'Vulnerable'."
   ]
  },
  {
   "cell_type": "markdown",
   "metadata": {},
   "source": [
    "### Exercise 2"
   ]
  },
  {
   "cell_type": "markdown",
   "metadata": {},
   "source": [
    "**a)**"
   ]
  },
  {
   "cell_type": "code",
   "execution_count": 11,
   "metadata": {},
   "outputs": [
    {
     "data": {
      "text/html": [
       "<div>\n",
       "<style scoped>\n",
       "    .dataframe tbody tr th:only-of-type {\n",
       "        vertical-align: middle;\n",
       "    }\n",
       "\n",
       "    .dataframe tbody tr th {\n",
       "        vertical-align: top;\n",
       "    }\n",
       "\n",
       "    .dataframe thead th {\n",
       "        text-align: right;\n",
       "    }\n",
       "</style>\n",
       "<table border=\"1\" class=\"dataframe\">\n",
       "  <thead>\n",
       "    <tr style=\"text-align: right;\">\n",
       "      <th></th>\n",
       "      <th>Species</th>\n",
       "      <th>Average Lifespan (Years)</th>\n",
       "      <th>Habitat</th>\n",
       "      <th>Conservation Status</th>\n",
       "      <th>Lifespan in Months</th>\n",
       "    </tr>\n",
       "  </thead>\n",
       "  <tbody>\n",
       "    <tr>\n",
       "      <th>0</th>\n",
       "      <td>African Elephant</td>\n",
       "      <td>60</td>\n",
       "      <td>Grasslands</td>\n",
       "      <td>Vulnerable</td>\n",
       "      <td>720</td>\n",
       "    </tr>\n",
       "    <tr>\n",
       "      <th>1</th>\n",
       "      <td>Bengal Tiger</td>\n",
       "      <td>15</td>\n",
       "      <td>Forests</td>\n",
       "      <td>Endangered</td>\n",
       "      <td>180</td>\n",
       "    </tr>\n",
       "    <tr>\n",
       "      <th>2</th>\n",
       "      <td>Blue Whale</td>\n",
       "      <td>80</td>\n",
       "      <td>Ocean</td>\n",
       "      <td>Endangered</td>\n",
       "      <td>960</td>\n",
       "    </tr>\n",
       "    <tr>\n",
       "      <th>3</th>\n",
       "      <td>Giant Panda</td>\n",
       "      <td>20</td>\n",
       "      <td>Temperate Forest</td>\n",
       "      <td>Vulnerable</td>\n",
       "      <td>240</td>\n",
       "    </tr>\n",
       "    <tr>\n",
       "      <th>4</th>\n",
       "      <td>Komodo Dragon</td>\n",
       "      <td>30</td>\n",
       "      <td>Islands</td>\n",
       "      <td>Vulnerable</td>\n",
       "      <td>360</td>\n",
       "    </tr>\n",
       "    <tr>\n",
       "      <th>5</th>\n",
       "      <td>Polar Bear</td>\n",
       "      <td>25</td>\n",
       "      <td>Arctic</td>\n",
       "      <td>Vulnerable</td>\n",
       "      <td>300</td>\n",
       "    </tr>\n",
       "    <tr>\n",
       "      <th>6</th>\n",
       "      <td>Red Fox</td>\n",
       "      <td>5</td>\n",
       "      <td>Various</td>\n",
       "      <td>Least Concern</td>\n",
       "      <td>60</td>\n",
       "    </tr>\n",
       "    <tr>\n",
       "      <th>7</th>\n",
       "      <td>Emperor Penguin</td>\n",
       "      <td>20</td>\n",
       "      <td>Antarctic</td>\n",
       "      <td>Near Threatened</td>\n",
       "      <td>240</td>\n",
       "    </tr>\n",
       "    <tr>\n",
       "      <th>8</th>\n",
       "      <td>Koala</td>\n",
       "      <td>13</td>\n",
       "      <td>Eucalyptus Forests</td>\n",
       "      <td>Vulnerable</td>\n",
       "      <td>156</td>\n",
       "    </tr>\n",
       "    <tr>\n",
       "      <th>9</th>\n",
       "      <td>Orangutan</td>\n",
       "      <td>35</td>\n",
       "      <td>Rainforests</td>\n",
       "      <td>Critically Endangered</td>\n",
       "      <td>420</td>\n",
       "    </tr>\n",
       "    <tr>\n",
       "      <th>10</th>\n",
       "      <td>Snow Leopard</td>\n",
       "      <td>15</td>\n",
       "      <td>Mountain Ranges</td>\n",
       "      <td>Vulnerable</td>\n",
       "      <td>180</td>\n",
       "    </tr>\n",
       "    <tr>\n",
       "      <th>11</th>\n",
       "      <td>Bald Eagle</td>\n",
       "      <td>20</td>\n",
       "      <td>Forests, Seacoasts</td>\n",
       "      <td>Least Concern</td>\n",
       "      <td>240</td>\n",
       "    </tr>\n",
       "    <tr>\n",
       "      <th>12</th>\n",
       "      <td>African Lion</td>\n",
       "      <td>14</td>\n",
       "      <td>Savanna</td>\n",
       "      <td>Vulnerable</td>\n",
       "      <td>168</td>\n",
       "    </tr>\n",
       "    <tr>\n",
       "      <th>13</th>\n",
       "      <td>Green Sea Turtle</td>\n",
       "      <td>80</td>\n",
       "      <td>Oceans, Beaches</td>\n",
       "      <td>Endangered</td>\n",
       "      <td>960</td>\n",
       "    </tr>\n",
       "    <tr>\n",
       "      <th>14</th>\n",
       "      <td>Gray Wolf</td>\n",
       "      <td>8</td>\n",
       "      <td>Forests, Tundra</td>\n",
       "      <td>Least Concern</td>\n",
       "      <td>96</td>\n",
       "    </tr>\n",
       "  </tbody>\n",
       "</table>\n",
       "</div>"
      ],
      "text/plain": [
       "             Species  Average Lifespan (Years)             Habitat  \\\n",
       "0   African Elephant                        60          Grasslands   \n",
       "1       Bengal Tiger                        15             Forests   \n",
       "2         Blue Whale                        80               Ocean   \n",
       "3        Giant Panda                        20    Temperate Forest   \n",
       "4      Komodo Dragon                        30             Islands   \n",
       "5         Polar Bear                        25              Arctic   \n",
       "6            Red Fox                         5             Various   \n",
       "7    Emperor Penguin                        20           Antarctic   \n",
       "8              Koala                        13  Eucalyptus Forests   \n",
       "9          Orangutan                        35         Rainforests   \n",
       "10      Snow Leopard                        15     Mountain Ranges   \n",
       "11        Bald Eagle                        20  Forests, Seacoasts   \n",
       "12      African Lion                        14             Savanna   \n",
       "13  Green Sea Turtle                        80     Oceans, Beaches   \n",
       "14         Gray Wolf                         8     Forests, Tundra   \n",
       "\n",
       "      Conservation Status  Lifespan in Months  \n",
       "0              Vulnerable                 720  \n",
       "1              Endangered                 180  \n",
       "2              Endangered                 960  \n",
       "3              Vulnerable                 240  \n",
       "4              Vulnerable                 360  \n",
       "5              Vulnerable                 300  \n",
       "6           Least Concern                  60  \n",
       "7         Near Threatened                 240  \n",
       "8              Vulnerable                 156  \n",
       "9   Critically Endangered                 420  \n",
       "10             Vulnerable                 180  \n",
       "11          Least Concern                 240  \n",
       "12             Vulnerable                 168  \n",
       "13             Endangered                 960  \n",
       "14          Least Concern                  96  "
      ]
     },
     "execution_count": 11,
     "metadata": {},
     "output_type": "execute_result"
    }
   ],
   "source": [
    "# Creating 'Lifespan in Months'\n",
    "animal_df['Lifespan in Months'] = animal_df['Average Lifespan (Years)'] * 12\n",
    "animal_df"
   ]
  },
  {
   "cell_type": "markdown",
   "metadata": {},
   "source": [
    "We add a new column named `Lifespan in Months` calculated by multiplying each value in `Average Lifespan (Years)` by 12 to convert from years to months."
   ]
  },
  {
   "cell_type": "markdown",
   "metadata": {},
   "source": [
    "**b)**"
   ]
  },
  {
   "cell_type": "code",
   "execution_count": null,
   "metadata": {},
   "outputs": [],
   "source": [
    "# Deleting 'Lifespan in Months'\n",
    "animal_df.drop('Lifespan in Months', axis=1, inplace=True)\n",
    "animal_df"
   ]
  },
  {
   "cell_type": "markdown",
   "metadata": {},
   "source": [
    "We remove the newly created `Lifespan in Months` from the DataFrame using the `drop` method. `axis=1` indicates the deletion of a column while `inplace=True` is used to ensure that the change is applied directly to `animal_df`."
   ]
  },
  {
   "cell_type": "markdown",
   "metadata": {},
   "source": [
    "### Exercise 3"
   ]
  },
  {
   "cell_type": "markdown",
   "metadata": {},
   "source": [
    "**a)**"
   ]
  },
  {
   "cell_type": "code",
   "execution_count": null,
   "metadata": {},
   "outputs": [],
   "source": [
    "# Filtering to find long-lived species whose 'Average Lifespan (Years)' is greater than 50 years.\n",
    "Long_lived_species = animal_df[animal_df['Average Lifespan (Years)'] > 50]\n",
    "\n",
    "# Display the filtered DataFrame\n",
    "Long_lived_species"
   ]
  },
  {
   "cell_type": "markdown",
   "metadata": {},
   "source": [
    "**b)**"
   ]
  },
  {
   "cell_type": "code",
   "execution_count": 29,
   "metadata": {},
   "outputs": [
    {
     "name": "stderr",
     "output_type": "stream",
     "text": [
      "C:\\Users\\IyadM\\AppData\\Local\\Temp\\ipykernel_4452\\309533859.py:2: SettingWithCopyWarning: \n",
      "A value is trying to be set on a copy of a slice from a DataFrame.\n",
      "Try using .loc[row_indexer,col_indexer] = value instead\n",
      "\n",
      "See the caveats in the documentation: https://pandas.pydata.org/pandas-docs/stable/user_guide/indexing.html#returning-a-view-versus-a-copy\n",
      "  Long_lived_species['Average Lifespan (Years)'] = Long_lived_species['Average Lifespan (Years)'].apply(lambda x: float(x))\n"
     ]
    },
    {
     "data": {
      "text/html": [
       "<div>\n",
       "<style scoped>\n",
       "    .dataframe tbody tr th:only-of-type {\n",
       "        vertical-align: middle;\n",
       "    }\n",
       "\n",
       "    .dataframe tbody tr th {\n",
       "        vertical-align: top;\n",
       "    }\n",
       "\n",
       "    .dataframe thead th {\n",
       "        text-align: right;\n",
       "    }\n",
       "</style>\n",
       "<table border=\"1\" class=\"dataframe\">\n",
       "  <thead>\n",
       "    <tr style=\"text-align: right;\">\n",
       "      <th></th>\n",
       "      <th>Species</th>\n",
       "      <th>Average Lifespan (Years)</th>\n",
       "      <th>Habitat</th>\n",
       "      <th>Conservation Status</th>\n",
       "    </tr>\n",
       "  </thead>\n",
       "  <tbody>\n",
       "    <tr>\n",
       "      <th>0</th>\n",
       "      <td>African Elephant</td>\n",
       "      <td>60.0</td>\n",
       "      <td>Grasslands</td>\n",
       "      <td>Vulnerable</td>\n",
       "    </tr>\n",
       "    <tr>\n",
       "      <th>2</th>\n",
       "      <td>Blue Whale</td>\n",
       "      <td>80.0</td>\n",
       "      <td>Ocean</td>\n",
       "      <td>Endangered</td>\n",
       "    </tr>\n",
       "    <tr>\n",
       "      <th>13</th>\n",
       "      <td>Green Sea Turtle</td>\n",
       "      <td>80.0</td>\n",
       "      <td>Oceans, Beaches</td>\n",
       "      <td>Endangered</td>\n",
       "    </tr>\n",
       "  </tbody>\n",
       "</table>\n",
       "</div>"
      ],
      "text/plain": [
       "             Species  Average Lifespan (Years)          Habitat  \\\n",
       "0   African Elephant                      60.0       Grasslands   \n",
       "2         Blue Whale                      80.0            Ocean   \n",
       "13  Green Sea Turtle                      80.0  Oceans, Beaches   \n",
       "\n",
       "   Conservation Status  \n",
       "0           Vulnerable  \n",
       "2           Endangered  \n",
       "13          Endangered  "
      ]
     },
     "execution_count": 29,
     "metadata": {},
     "output_type": "execute_result"
    }
   ],
   "source": [
    "# Transform the Average Lifespan (Years) column to the floats\n",
    "Long_lived_species['Average Lifespan (Years)'] = Long_lived_species['Average Lifespan (Years)'].apply(lambda x: float(x))\n",
    "\n",
    "# Display the updated DataFrame \n",
    "Long_lived_species"
   ]
  },
  {
   "cell_type": "markdown",
   "metadata": {},
   "source": [
    "We use a **lambda** function to **apply** the operation of converting to float across all values in the `Average Lifespan (Years)` column in the `Long_lived_species` DataFrame."
   ]
  },
  {
   "cell_type": "markdown",
   "metadata": {},
   "source": [
    "### Exercise 4"
   ]
  },
  {
   "cell_type": "code",
   "execution_count": 31,
   "metadata": {},
   "outputs": [
    {
     "data": {
      "text/html": [
       "<div>\n",
       "<style scoped>\n",
       "    .dataframe tbody tr th:only-of-type {\n",
       "        vertical-align: middle;\n",
       "    }\n",
       "\n",
       "    .dataframe tbody tr th {\n",
       "        vertical-align: top;\n",
       "    }\n",
       "\n",
       "    .dataframe thead th {\n",
       "        text-align: right;\n",
       "    }\n",
       "</style>\n",
       "<table border=\"1\" class=\"dataframe\">\n",
       "  <thead>\n",
       "    <tr style=\"text-align: right;\">\n",
       "      <th></th>\n",
       "      <th>Species</th>\n",
       "      <th>Average Lifespan (Years)</th>\n",
       "      <th>Habitat</th>\n",
       "      <th>Conservation Status</th>\n",
       "    </tr>\n",
       "  </thead>\n",
       "  <tbody>\n",
       "    <tr>\n",
       "      <th>1</th>\n",
       "      <td>Bengal Tiger</td>\n",
       "      <td>15</td>\n",
       "      <td>Forests</td>\n",
       "      <td>Endangered</td>\n",
       "    </tr>\n",
       "    <tr>\n",
       "      <th>2</th>\n",
       "      <td>Blue Whale</td>\n",
       "      <td>80</td>\n",
       "      <td>Ocean</td>\n",
       "      <td>Endangered</td>\n",
       "    </tr>\n",
       "    <tr>\n",
       "      <th>9</th>\n",
       "      <td>Orangutan</td>\n",
       "      <td>35</td>\n",
       "      <td>Rainforests</td>\n",
       "      <td>Critically Endangered</td>\n",
       "    </tr>\n",
       "    <tr>\n",
       "      <th>13</th>\n",
       "      <td>Green Sea Turtle</td>\n",
       "      <td>80</td>\n",
       "      <td>Oceans, Beaches</td>\n",
       "      <td>Endangered</td>\n",
       "    </tr>\n",
       "  </tbody>\n",
       "</table>\n",
       "</div>"
      ],
      "text/plain": [
       "             Species  Average Lifespan (Years)          Habitat  \\\n",
       "1       Bengal Tiger                        15          Forests   \n",
       "2         Blue Whale                        80            Ocean   \n",
       "9          Orangutan                        35      Rainforests   \n",
       "13  Green Sea Turtle                        80  Oceans, Beaches   \n",
       "\n",
       "      Conservation Status  \n",
       "1              Endangered  \n",
       "2              Endangered  \n",
       "9   Critically Endangered  \n",
       "13             Endangered  "
      ]
     },
     "execution_count": 31,
     "metadata": {},
     "output_type": "execute_result"
    }
   ],
   "source": [
    "# Filtering to find species with 'Endangered' in their conservation status\n",
    "Endangered_species = animal_df[animal_df['Conservation Status'].str.contains('Endangered')]\n",
    "\n",
    "# Display the filtered DataFrame\n",
    "Endangered_species"
   ]
  },
  {
   "cell_type": "markdown",
   "metadata": {},
   "source": [
    "We use the method `.str.contains('Endangered')` to identify species whose `Conservation Status` contains the substring `Endangered`. \n",
    "the result is stored in a new DataFrame `Endangered_species`."
   ]
  },
  {
   "cell_type": "markdown",
   "metadata": {},
   "source": [
    "### Exercise 5"
   ]
  },
  {
   "cell_type": "code",
   "execution_count": 37,
   "metadata": {},
   "outputs": [
    {
     "data": {
      "text/plain": [
       "Habitat\n",
       "Ocean                 80.0\n",
       "Oceans, Beaches       80.0\n",
       "Grasslands            60.0\n",
       "Rainforests           35.0\n",
       "Islands               30.0\n",
       "Arctic                25.0\n",
       "Antarctic             20.0\n",
       "Forests, Seacoasts    20.0\n",
       "Temperate Forest      20.0\n",
       "Forests               15.0\n",
       "Mountain Ranges       15.0\n",
       "Savanna               14.0\n",
       "Eucalyptus Forests    13.0\n",
       "Forests, Tundra        8.0\n",
       "Various                5.0\n",
       "Name: Average Lifespan (Years), dtype: float64"
      ]
     },
     "execution_count": 37,
     "metadata": {},
     "output_type": "execute_result"
    }
   ],
   "source": [
    "Mean_lifespan_by_habitat = animal_df.groupby('Habitat')['Average Lifespan (Years)'].mean().sort_values(ascending=False)\n",
    "\n",
    "Mean_lifespan_by_habitat"
   ]
  },
  {
   "cell_type": "markdown",
   "metadata": {},
   "source": [
    "The `groupby('Habitat')` groups the data in the DataFrame `animal_df`, where each group corresponds to a unique habitat.\n",
    "\n",
    "Within each group, the `.mean()` method is applied to find the average lifespan of species within that habitat.\n",
    "\n",
    "The `sort_values(ascending=False)` method then sorts these average values in descending order. "
   ]
  },
  {
   "cell_type": "markdown",
   "metadata": {},
   "source": [
    "### Exercise 6"
   ]
  },
  {
   "cell_type": "code",
   "execution_count": null,
   "metadata": {},
   "outputs": [],
   "source": [
    "# Function to categorise species based on their conservation status.\n",
    "def categorise_threat(status):\n",
    "    if status in ['Critically Endangered', 'Endangered']:\n",
    "        return 'High'\n",
    "    elif status in ['Vulnerable', 'Near Threatened']:\n",
    "        return 'Medium'\n",
    "    else:\n",
    "        return 'Low'\n",
    "# Apply the 'categorise_threat' function to the 'Conservation Status' column\n",
    "animal_df['Threat Level'] = animal_df['Conservation Status'].apply(categorise_threat)\n",
    "\n",
    "animal_df"
   ]
  },
  {
   "cell_type": "markdown",
   "metadata": {},
   "source": [
    "We define the `categorise_threat` function which uses conditional statements to categorise species based on their conservation status.\n",
    "\n",
    "We then use the `apply` method to apply the function to each row in the `Conservation Status` column.\n",
    "\n",
    "The results are stored in a new column `Threat Level`."
   ]
  },
  {
   "cell_type": "markdown",
   "metadata": {},
   "source": [
    "<div align=\"center\" style=\" font-size: 80%; text-align: center; margin: 0 auto\">\n",
    "<img src=\"https://raw.githubusercontent.com/Explore-AI/Pictures/master/ExploreAI_logos/EAI_Blue_Dark.png\"  style=\"width:200px\";/>\n",
    "</div>"
   ]
  }
 ],
 "metadata": {
  "colab": {
   "authorship_tag": "ABX9TyPZFCZhaikX+N2/Bg7W6SY+",
   "collapsed_sections": [],
   "name": "Search_algorithms.ipynb",
   "provenance": [],
   "toc_visible": true
  },
  "interpreter": {
   "hash": "6b5ebbc2c6bde2831bc6c0426f75aca8137ccfc69d329557556ed73faee126ae"
  },
  "kernelspec": {
   "display_name": "Python 3 (ipykernel)",
   "language": "python",
   "name": "python3"
  },
  "language_info": {
   "codemirror_mode": {
    "name": "ipython",
    "version": 3
   },
   "file_extension": ".py",
   "mimetype": "text/x-python",
   "name": "python",
   "nbconvert_exporter": "python",
   "pygments_lexer": "ipython3",
   "version": "3.11.7"
  }
 },
 "nbformat": 4,
 "nbformat_minor": 4
}
