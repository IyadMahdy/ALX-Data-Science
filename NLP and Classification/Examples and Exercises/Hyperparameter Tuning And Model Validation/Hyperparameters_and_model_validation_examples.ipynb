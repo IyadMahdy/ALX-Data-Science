{
 "cells": [
  {
   "cell_type": "markdown",
   "id": "c7ceb22c",
   "metadata": {},
   "source": [
    "<div align=\"center\" style=\" font-size: 80%; text-align: center; margin: 0 auto\">\n",
    "<img src=\"https://raw.githubusercontent.com/Explore-AI/Pictures/master/Python-Notebook-Banners/Examples.png\"  style=\"display: block; margin-left: auto; margin-right: auto;\";/>\n",
    "</div>"
   ]
  },
  {
   "cell_type": "markdown",
   "id": "f662d169",
   "metadata": {},
   "source": [
    "# Examples: Hyperparameters and model validation\n",
    "© ExploreAI Academy"
   ]
  },
  {
   "cell_type": "markdown",
   "id": "26af890c",
   "metadata": {},
   "source": [
    "In this train, we'll explore hyperparameter tuning using grid search while focusing on optimising a model's performance."
   ]
  },
  {
   "cell_type": "markdown",
   "id": "2d230d14",
   "metadata": {
    "tags": []
   },
   "source": [
    "## Learning objectives\n",
    "\n",
    "By the end of this train, you should be able to:\n",
    "- Understand what it means to tune hyperparameters.\n",
    "- Find optimal hyperparameters using grid search."
   ]
  },
  {
   "cell_type": "markdown",
   "id": "cd0fe213",
   "metadata": {},
   "source": [
    "## Introduction\n",
    "\n",
    "In previous tutorials, we saw the basic recipe for applying a supervised machine learning model:\n",
    "\n",
    "1. Choose a classification model;\n",
    "2. Set the model's hyperparameters;\n",
    "3. Fit the model to the training data;\n",
    "4. Use the model to predict labels for new data.\n",
    "\n",
    "In this tutorial, we will explain what hyperparameters are and implement a technique known as grid search in order to find the optimal hyperparameters for our model."
   ]
  },
  {
   "cell_type": "markdown",
   "id": "58249bcb",
   "metadata": {},
   "source": [
    "# What is a hyperparameter?"
   ]
  },
  {
   "cell_type": "markdown",
   "id": "fe19173b",
   "metadata": {},
   "source": [
    "A hyperparameter is a variable or argument whose value is set before the training process begins. In contrast, _parameters_ are those values derived via training. Different model training algorithms require different hyperparameters, and some simple algorithms require none. "
   ]
  },
  {
   "cell_type": "markdown",
   "id": "95eeb42d",
   "metadata": {},
   "source": [
    "[**Hyperparameter optimisation**](https://en.wikipedia.org/wiki/Hyperparameter_optimization), or tuning, is the method of choosing a set of optimal hyperparameters for a learning algorithm.\n",
    "\n",
    "The same type of machine learning model can require different constraints, weights or learning rates to generalise to different data patterns. Hyperparameter optimisation finds a tuple of hyperparameters that yields an optimal model which minimises a predefined loss function on given data. "
   ]
  },
  {
   "attachments": {},
   "cell_type": "markdown",
   "id": "5f48eb73",
   "metadata": {},
   "source": [
    "Various techniques exist for tuning hyperparameters, to name a few:\n",
    "\n",
    "* Grid search;\n",
    "* Random search;\n",
    "* Bayesian optimisation;\n",
    "* Gradient-based optimisation; and\n",
    "* Evolutionary optimisation.\n",
    "\n",
    "In this tutorial we will be implementing Grid Search and leave the exploration of other techniques as an exercise for the reader.\n",
    "\n",
    "### Imports\n",
    "\n",
    "Let us start off as usual, by importing all the necessary packages."
   ]
  },
  {
   "cell_type": "code",
   "execution_count": 1,
   "id": "3f43df3e",
   "metadata": {},
   "outputs": [],
   "source": [
    "import pandas as pd\n",
    "import numpy as np\n",
    "import matplotlib.pyplot as plt\n",
    "%matplotlib inline\n",
    "\n",
    "from sklearn.model_selection import cross_val_score\n",
    "from sklearn.model_selection import train_test_split\n",
    "from sklearn import metrics"
   ]
  },
  {
   "cell_type": "markdown",
   "id": "5c39c874",
   "metadata": {},
   "source": [
    "We'll be using the MBTI dataset from previous trains. However, we will skip the pre-processing stage here and load in our bag of words directly to make things easier."
   ]
  },
  {
   "cell_type": "code",
   "execution_count": 2,
   "id": "34b04a5a",
   "metadata": {},
   "outputs": [],
   "source": [
    "mbti = pd.read_csv('https://raw.githubusercontent.com/Explore-AI/Public-Data/master/Data/classification_sprint/mbti_count_vector_downsampled.csv')"
   ]
  },
  {
   "cell_type": "code",
   "execution_count": 3,
   "id": "97efc788",
   "metadata": {},
   "outputs": [
    {
     "data": {
      "text/html": [
       "<div>\n",
       "<style scoped>\n",
       "    .dataframe tbody tr th:only-of-type {\n",
       "        vertical-align: middle;\n",
       "    }\n",
       "\n",
       "    .dataframe tbody tr th {\n",
       "        vertical-align: top;\n",
       "    }\n",
       "\n",
       "    .dataframe thead th {\n",
       "        text-align: right;\n",
       "    }\n",
       "</style>\n",
       "<table border=\"1\" class=\"dataframe\">\n",
       "  <thead>\n",
       "    <tr style=\"text-align: right;\">\n",
       "      <th></th>\n",
       "      <th>actually</th>\n",
       "      <th>agree</th>\n",
       "      <th>ask</th>\n",
       "      <th>away</th>\n",
       "      <th>bad</th>\n",
       "      <th>believe</th>\n",
       "      <th>best</th>\n",
       "      <th>better</th>\n",
       "      <th>bit</th>\n",
       "      <th>care</th>\n",
       "      <th>...</th>\n",
       "      <th>work</th>\n",
       "      <th>world</th>\n",
       "      <th>wouldnt</th>\n",
       "      <th>wrong</th>\n",
       "      <th>yeah</th>\n",
       "      <th>year</th>\n",
       "      <th>years</th>\n",
       "      <th>yes</th>\n",
       "      <th>youre</th>\n",
       "      <th>y</th>\n",
       "    </tr>\n",
       "  </thead>\n",
       "  <tbody>\n",
       "    <tr>\n",
       "      <th>0</th>\n",
       "      <td>0</td>\n",
       "      <td>0</td>\n",
       "      <td>0</td>\n",
       "      <td>0</td>\n",
       "      <td>0</td>\n",
       "      <td>0</td>\n",
       "      <td>0</td>\n",
       "      <td>0</td>\n",
       "      <td>0</td>\n",
       "      <td>0</td>\n",
       "      <td>...</td>\n",
       "      <td>0</td>\n",
       "      <td>0</td>\n",
       "      <td>0</td>\n",
       "      <td>0</td>\n",
       "      <td>0</td>\n",
       "      <td>0</td>\n",
       "      <td>0</td>\n",
       "      <td>0</td>\n",
       "      <td>0</td>\n",
       "      <td>0</td>\n",
       "    </tr>\n",
       "    <tr>\n",
       "      <th>1</th>\n",
       "      <td>0</td>\n",
       "      <td>0</td>\n",
       "      <td>0</td>\n",
       "      <td>0</td>\n",
       "      <td>0</td>\n",
       "      <td>0</td>\n",
       "      <td>0</td>\n",
       "      <td>1</td>\n",
       "      <td>0</td>\n",
       "      <td>1</td>\n",
       "      <td>...</td>\n",
       "      <td>0</td>\n",
       "      <td>0</td>\n",
       "      <td>0</td>\n",
       "      <td>0</td>\n",
       "      <td>0</td>\n",
       "      <td>0</td>\n",
       "      <td>0</td>\n",
       "      <td>0</td>\n",
       "      <td>0</td>\n",
       "      <td>0</td>\n",
       "    </tr>\n",
       "    <tr>\n",
       "      <th>2</th>\n",
       "      <td>0</td>\n",
       "      <td>0</td>\n",
       "      <td>0</td>\n",
       "      <td>0</td>\n",
       "      <td>0</td>\n",
       "      <td>0</td>\n",
       "      <td>0</td>\n",
       "      <td>0</td>\n",
       "      <td>0</td>\n",
       "      <td>0</td>\n",
       "      <td>...</td>\n",
       "      <td>0</td>\n",
       "      <td>0</td>\n",
       "      <td>0</td>\n",
       "      <td>0</td>\n",
       "      <td>0</td>\n",
       "      <td>0</td>\n",
       "      <td>0</td>\n",
       "      <td>0</td>\n",
       "      <td>0</td>\n",
       "      <td>1</td>\n",
       "    </tr>\n",
       "    <tr>\n",
       "      <th>3</th>\n",
       "      <td>0</td>\n",
       "      <td>0</td>\n",
       "      <td>0</td>\n",
       "      <td>0</td>\n",
       "      <td>0</td>\n",
       "      <td>0</td>\n",
       "      <td>0</td>\n",
       "      <td>0</td>\n",
       "      <td>0</td>\n",
       "      <td>0</td>\n",
       "      <td>...</td>\n",
       "      <td>0</td>\n",
       "      <td>0</td>\n",
       "      <td>0</td>\n",
       "      <td>0</td>\n",
       "      <td>0</td>\n",
       "      <td>0</td>\n",
       "      <td>0</td>\n",
       "      <td>0</td>\n",
       "      <td>0</td>\n",
       "      <td>1</td>\n",
       "    </tr>\n",
       "    <tr>\n",
       "      <th>4</th>\n",
       "      <td>0</td>\n",
       "      <td>0</td>\n",
       "      <td>0</td>\n",
       "      <td>0</td>\n",
       "      <td>0</td>\n",
       "      <td>0</td>\n",
       "      <td>0</td>\n",
       "      <td>0</td>\n",
       "      <td>0</td>\n",
       "      <td>0</td>\n",
       "      <td>...</td>\n",
       "      <td>0</td>\n",
       "      <td>0</td>\n",
       "      <td>0</td>\n",
       "      <td>0</td>\n",
       "      <td>0</td>\n",
       "      <td>0</td>\n",
       "      <td>0</td>\n",
       "      <td>0</td>\n",
       "      <td>0</td>\n",
       "      <td>1</td>\n",
       "    </tr>\n",
       "  </tbody>\n",
       "</table>\n",
       "<p>5 rows × 153 columns</p>\n",
       "</div>"
      ],
      "text/plain": [
       "   actually  agree  ask  away  bad  believe  best  better  bit  care  ...  \\\n",
       "0         0      0    0     0    0        0     0       0    0     0  ...   \n",
       "1         0      0    0     0    0        0     0       1    0     1  ...   \n",
       "2         0      0    0     0    0        0     0       0    0     0  ...   \n",
       "3         0      0    0     0    0        0     0       0    0     0  ...   \n",
       "4         0      0    0     0    0        0     0       0    0     0  ...   \n",
       "\n",
       "   work  world  wouldnt  wrong  yeah  year  years  yes  youre  y  \n",
       "0     0      0        0      0     0     0      0    0      0  0  \n",
       "1     0      0        0      0     0     0      0    0      0  0  \n",
       "2     0      0        0      0     0     0      0    0      0  1  \n",
       "3     0      0        0      0     0     0      0    0      0  1  \n",
       "4     0      0        0      0     0     0      0    0      0  1  \n",
       "\n",
       "[5 rows x 153 columns]"
      ]
     },
     "execution_count": 3,
     "metadata": {},
     "output_type": "execute_result"
    }
   ],
   "source": [
    "mbti.head()"
   ]
  },
  {
   "cell_type": "markdown",
   "id": "f1c35d74",
   "metadata": {},
   "source": [
    "Now we'll allocate features and labels and split our data into training and testing sets. This dataset is rather large. Let's only use 5,000 entries so that we can speed up our training time."
   ]
  },
  {
   "cell_type": "code",
   "execution_count": 4,
   "id": "e3728ef4",
   "metadata": {},
   "outputs": [],
   "source": [
    "X = mbti.drop('y', axis=1)\n",
    "y = mbti['y']\n",
    "\n",
    "n = 5000\n",
    "X_n = X[:n]\n",
    "y_n = y[:n]\n",
    "X_train, X_test, y_train, y_test = train_test_split(X_n, y_n)"
   ]
  },
  {
   "cell_type": "markdown",
   "id": "09e74d57",
   "metadata": {},
   "source": [
    "## K-Nearest Neigbours"
   ]
  },
  {
   "attachments": {},
   "cell_type": "markdown",
   "id": "e563ebca",
   "metadata": {},
   "source": [
    "Let's start with the K-Nearest Neighbours algorithm as it has one of the more simple hyperparameters: \n",
    "* `K` - the number of nearest neighbours to use in the classifier\n",
    "\n",
    "In this example, we'll create 13 different KNN models, each with a different number of neighbours. We'll generate the results of both the training and testing accuracy in order to analyse the performance of each of these models. Note that this cell might take more time to complete than you are used to, as we are now training 13 models instead of 1.\n",
    "\n",
    "**Note: The code below takes 1-2 minutes to execute.**"
   ]
  },
  {
   "cell_type": "code",
   "execution_count": 5,
   "id": "aa6c0647",
   "metadata": {},
   "outputs": [
    {
     "name": "stdout",
     "output_type": "stream",
     "text": [
      "Fitting KNN model with k = 1\n",
      "Fitting KNN model with k = 2\n",
      "Fitting KNN model with k = 3\n",
      "Fitting KNN model with k = 4\n",
      "Fitting KNN model with k = 5\n",
      "Fitting KNN model with k = 6\n",
      "Fitting KNN model with k = 7\n",
      "Fitting KNN model with k = 8\n",
      "Fitting KNN model with k = 9\n",
      "Fitting KNN model with k = 10\n",
      "Fitting KNN model with k = 20\n",
      "Fitting KNN model with k = 50\n",
      "Fitting KNN model with k = 100\n"
     ]
    }
   ],
   "source": [
    "from sklearn.neighbors import KNeighborsClassifier\n",
    "ks = [1, 2, 3, 4, 5, 6, 7, 8, 9, 10, 20, 50, 100]\n",
    "\n",
    "results = []\n",
    "\n",
    "for k in ks:\n",
    "    print('Fitting KNN model with k = {:d}'.format(k))\n",
    "    knn = KNeighborsClassifier(k)\n",
    "    run_time = %timeit -q -o knn.fit(X_train, y_train)\n",
    "    \n",
    "    # predicting\n",
    "    y_pred = knn.predict(X_train)   \n",
    "    y_pred_test = knn.predict(X_test)\n",
    "    \n",
    "    # scoring\n",
    "    accuracy  = metrics.accuracy_score(y_train, y_pred)\n",
    "    precision = metrics.precision_score(y_train, y_pred)\n",
    "    recall    = metrics.recall_score(y_train, y_pred)    \n",
    "    f1        = metrics.f1_score(y_train, y_pred)    \n",
    "    f1_test   = metrics.f1_score(y_test, y_pred_test)    \n",
    "    \n",
    "    # save the results \n",
    "    results.append([k, accuracy, precision, recall, f1, f1_test, run_time.best])\n",
    "    \n",
    "results = pd.DataFrame(results, columns=['KNN', 'Accuracy', 'Precision', 'Recall', 'F1 Train', 'F1 Test', 'Train Time'])\n",
    "results.set_index('KNN', inplace= True)"
   ]
  },
  {
   "attachments": {},
   "cell_type": "markdown",
   "id": "4c80b627",
   "metadata": {},
   "source": [
    "Let's print off the training classification report, as well as the F1-score of predicting on the test set, so that we can analyse the models' performance."
   ]
  },
  {
   "cell_type": "code",
   "execution_count": 6,
   "id": "a77199d4",
   "metadata": {},
   "outputs": [
    {
     "data": {
      "text/html": [
       "<div>\n",
       "<style scoped>\n",
       "    .dataframe tbody tr th:only-of-type {\n",
       "        vertical-align: middle;\n",
       "    }\n",
       "\n",
       "    .dataframe tbody tr th {\n",
       "        vertical-align: top;\n",
       "    }\n",
       "\n",
       "    .dataframe thead th {\n",
       "        text-align: right;\n",
       "    }\n",
       "</style>\n",
       "<table border=\"1\" class=\"dataframe\">\n",
       "  <thead>\n",
       "    <tr style=\"text-align: right;\">\n",
       "      <th></th>\n",
       "      <th>Accuracy</th>\n",
       "      <th>Precision</th>\n",
       "      <th>Recall</th>\n",
       "      <th>F1 Train</th>\n",
       "      <th>F1 Test</th>\n",
       "      <th>Train Time</th>\n",
       "    </tr>\n",
       "    <tr>\n",
       "      <th>KNN</th>\n",
       "      <th></th>\n",
       "      <th></th>\n",
       "      <th></th>\n",
       "      <th></th>\n",
       "      <th></th>\n",
       "      <th></th>\n",
       "    </tr>\n",
       "  </thead>\n",
       "  <tbody>\n",
       "    <tr>\n",
       "      <th>1</th>\n",
       "      <td>0.945867</td>\n",
       "      <td>0.952685</td>\n",
       "      <td>0.978628</td>\n",
       "      <td>0.965482</td>\n",
       "      <td>0.793862</td>\n",
       "      <td>0.003161</td>\n",
       "    </tr>\n",
       "    <tr>\n",
       "      <th>2</th>\n",
       "      <td>0.812267</td>\n",
       "      <td>0.954113</td>\n",
       "      <td>0.795588</td>\n",
       "      <td>0.867669</td>\n",
       "      <td>0.701535</td>\n",
       "      <td>0.003260</td>\n",
       "    </tr>\n",
       "    <tr>\n",
       "      <th>3</th>\n",
       "      <td>0.817067</td>\n",
       "      <td>0.833685</td>\n",
       "      <td>0.953809</td>\n",
       "      <td>0.889711</td>\n",
       "      <td>0.822439</td>\n",
       "      <td>0.003203</td>\n",
       "    </tr>\n",
       "    <tr>\n",
       "      <th>4</th>\n",
       "      <td>0.716267</td>\n",
       "      <td>0.863762</td>\n",
       "      <td>0.751810</td>\n",
       "      <td>0.803907</td>\n",
       "      <td>0.720751</td>\n",
       "      <td>0.003233</td>\n",
       "    </tr>\n",
       "    <tr>\n",
       "      <th>5</th>\n",
       "      <td>0.768800</td>\n",
       "      <td>0.803220</td>\n",
       "      <td>0.928645</td>\n",
       "      <td>0.861391</td>\n",
       "      <td>0.826399</td>\n",
       "      <td>0.003211</td>\n",
       "    </tr>\n",
       "    <tr>\n",
       "      <th>6</th>\n",
       "      <td>0.757867</td>\n",
       "      <td>0.810533</td>\n",
       "      <td>0.896587</td>\n",
       "      <td>0.851391</td>\n",
       "      <td>0.809407</td>\n",
       "      <td>0.003314</td>\n",
       "    </tr>\n",
       "    <tr>\n",
       "      <th>7</th>\n",
       "      <td>0.786667</td>\n",
       "      <td>0.790434</td>\n",
       "      <td>0.985522</td>\n",
       "      <td>0.877263</td>\n",
       "      <td>0.854369</td>\n",
       "      <td>0.003491</td>\n",
       "    </tr>\n",
       "    <tr>\n",
       "      <th>8</th>\n",
       "      <td>0.759467</td>\n",
       "      <td>0.793539</td>\n",
       "      <td>0.931403</td>\n",
       "      <td>0.856962</td>\n",
       "      <td>0.829594</td>\n",
       "      <td>0.003287</td>\n",
       "    </tr>\n",
       "    <tr>\n",
       "      <th>9</th>\n",
       "      <td>0.783733</td>\n",
       "      <td>0.785519</td>\n",
       "      <td>0.991038</td>\n",
       "      <td>0.876391</td>\n",
       "      <td>0.857798</td>\n",
       "      <td>0.003222</td>\n",
       "    </tr>\n",
       "    <tr>\n",
       "      <th>10</th>\n",
       "      <td>0.785600</td>\n",
       "      <td>0.790041</td>\n",
       "      <td>0.984488</td>\n",
       "      <td>0.876611</td>\n",
       "      <td>0.857407</td>\n",
       "      <td>0.003373</td>\n",
       "    </tr>\n",
       "    <tr>\n",
       "      <th>20</th>\n",
       "      <td>0.773333</td>\n",
       "      <td>0.775598</td>\n",
       "      <td>0.994829</td>\n",
       "      <td>0.871640</td>\n",
       "      <td>0.867393</td>\n",
       "      <td>0.003268</td>\n",
       "    </tr>\n",
       "    <tr>\n",
       "      <th>50</th>\n",
       "      <td>0.773600</td>\n",
       "      <td>0.773600</td>\n",
       "      <td>1.000000</td>\n",
       "      <td>0.872350</td>\n",
       "      <td>0.869290</td>\n",
       "      <td>0.003304</td>\n",
       "    </tr>\n",
       "    <tr>\n",
       "      <th>100</th>\n",
       "      <td>0.773600</td>\n",
       "      <td>0.773600</td>\n",
       "      <td>1.000000</td>\n",
       "      <td>0.872350</td>\n",
       "      <td>0.869290</td>\n",
       "      <td>0.003284</td>\n",
       "    </tr>\n",
       "  </tbody>\n",
       "</table>\n",
       "</div>"
      ],
      "text/plain": [
       "     Accuracy  Precision    Recall  F1 Train   F1 Test  Train Time\n",
       "KNN                                                               \n",
       "1    0.945867   0.952685  0.978628  0.965482  0.793862    0.003161\n",
       "2    0.812267   0.954113  0.795588  0.867669  0.701535    0.003260\n",
       "3    0.817067   0.833685  0.953809  0.889711  0.822439    0.003203\n",
       "4    0.716267   0.863762  0.751810  0.803907  0.720751    0.003233\n",
       "5    0.768800   0.803220  0.928645  0.861391  0.826399    0.003211\n",
       "6    0.757867   0.810533  0.896587  0.851391  0.809407    0.003314\n",
       "7    0.786667   0.790434  0.985522  0.877263  0.854369    0.003491\n",
       "8    0.759467   0.793539  0.931403  0.856962  0.829594    0.003287\n",
       "9    0.783733   0.785519  0.991038  0.876391  0.857798    0.003222\n",
       "10   0.785600   0.790041  0.984488  0.876611  0.857407    0.003373\n",
       "20   0.773333   0.775598  0.994829  0.871640  0.867393    0.003268\n",
       "50   0.773600   0.773600  1.000000  0.872350  0.869290    0.003304\n",
       "100  0.773600   0.773600  1.000000  0.872350  0.869290    0.003284"
      ]
     },
     "execution_count": 6,
     "metadata": {},
     "output_type": "execute_result"
    }
   ],
   "source": [
    "results"
   ]
  },
  {
   "attachments": {},
   "cell_type": "markdown",
   "id": "a381fc9b",
   "metadata": {},
   "source": [
    "These numbers are rather hard to read. Let's print out a graph of the F1 scores and see the comparison of the training and testing scores."
   ]
  },
  {
   "cell_type": "code",
   "execution_count": 9,
   "id": "ed625d85",
   "metadata": {},
   "outputs": [
    {
     "data": {
      "text/plain": [
       "<Axes: xlabel='KNN'>"
      ]
     },
     "execution_count": 9,
     "metadata": {},
     "output_type": "execute_result"
    },
    {
     "data": {
      "image/png": "[encoded data removed]",
      "text/plain": [
       "<Figure size 1000x800 with 1 Axes>"
      ]
     },
     "metadata": {},
     "output_type": "display_data"
    }
   ],
   "source": [
    "results[['F1 Train', 'F1 Test']].plot(kind = 'line', figsize=(10, 8), logx=True)"
   ]
  },
  {
   "cell_type": "markdown",
   "id": "0b169e8b",
   "metadata": {},
   "source": [
    "We have set `logx=True`, which creates a logarithmic scale along the x-axis to easier show values over a greater range. We can see that until approximately `K=10`, the F1-score tends to jump around a bit. With `K` < 7 there is still a large difference between the performance on the training and testing sets. At around `K` = 9 these values seem to start to converge, suggesting we are nearing an optimal value for the hyperparameter."
   ]
  },
  {
   "attachments": {},
   "cell_type": "markdown",
   "id": "53d9425d",
   "metadata": {},
   "source": [
    "### `sklearn` GridSearch\n",
    "\n",
    "Hyperparameter tuning can be automated using `sklearn`'s parameter search strategies. As in the example above where we exhaustively consider all parameter combinations (or at least most of the parameters between `K` = 1 and 100), this can be done using the search strategy `GridSearchCV`. Let's see how that works.\n",
    "\n",
    "#### Imports\n",
    "\n",
    "We'll need to import `GridSearchCV`."
   ]
  },
  {
   "cell_type": "code",
   "execution_count": 10,
   "id": "8658baf5",
   "metadata": {},
   "outputs": [],
   "source": [
    "from sklearn.model_selection import GridSearchCV"
   ]
  },
  {
   "cell_type": "markdown",
   "id": "a0d6114e",
   "metadata": {},
   "source": [
    "In this example we will iterate over the same `K` values as we did above. This is done by assigning the number of neighbours to the above list of `K` values inside a grid of parameters - if you wanted to tune more of the model's parameters, these values would be added to this parameter grid.\n",
    "\n",
    "The grid is in the form of a dictionary, so we would add them in the format of:\n",
    "\n",
    "`'<hyperparam_1>': <set of values>,`\n",
    "\n",
    "`'<hyperparam_2>': <set of values>,`\n",
    "\n",
    "`...etc...`"
   ]
  },
  {
   "cell_type": "code",
   "execution_count": 11,
   "id": "b6656d07",
   "metadata": {},
   "outputs": [],
   "source": [
    "# ks is the list of k-values we created above\n",
    "param_grid = {'n_neighbors': ks}"
   ]
  },
  {
   "cell_type": "markdown",
   "id": "8cf4ccea",
   "metadata": {},
   "source": [
    "Next, we create an instance of `GridSearchCV` where we indicate the model type (KNN) and the scoring metric to measure model performance on (in this case F1-score). You can also change the number of folds in the cross-validation splitting strategy, but by default this is set to five, and we'll leave it as is."
   ]
  },
  {
   "cell_type": "code",
   "execution_count": 12,
   "id": "7ad96457",
   "metadata": {},
   "outputs": [],
   "source": [
    "grid_knn = GridSearchCV(KNeighborsClassifier(), param_grid, scoring='f1')"
   ]
  },
  {
   "cell_type": "markdown",
   "id": "d6146164",
   "metadata": {},
   "source": [
    "Now we can simply fit this GridSearch model to the training data, and determine what the optimal value for our number of neighbours is by printing out the best parameter values."
   ]
  },
  {
   "cell_type": "code",
   "execution_count": 13,
   "id": "3e994e9e",
   "metadata": {},
   "outputs": [
    {
     "data": {
      "text/plain": [
       "{'n_neighbors': 50}"
      ]
     },
     "execution_count": 13,
     "metadata": {},
     "output_type": "execute_result"
    }
   ],
   "source": [
    "grid_knn.fit(X_n, y_n)\n",
    "grid_knn.best_params_"
   ]
  },
  {
   "cell_type": "markdown",
   "id": "625f7c1c",
   "metadata": {},
   "source": [
    "# Support vector machine\n",
    "\n",
    "Models generally have more than one hyperparameter to tune.  `sklearn` provides automated tools to do this in the grid search module. we'll now work through an example of using grid search to find the optimal hyperparameters for a Support Vector Machine.\n",
    "\n",
    "The grid search algorithm will fit a model for all of the combinations of hyperparameters you specify. It will also apply K-fold cross-validation. The hyperparameters that optimise for a given scoring metric will then be returned.\n",
    "\n",
    "Let's start by importing `sklearn`'s Support Vector Classifier."
   ]
  },
  {
   "cell_type": "code",
   "execution_count": 14,
   "id": "65f4f907",
   "metadata": {},
   "outputs": [],
   "source": [
    "from sklearn.svm import SVC"
   ]
  },
  {
   "cell_type": "markdown",
   "id": "aa54f031",
   "metadata": {},
   "source": [
    "There are a lot of parameters in SVC to play around with!  We will be focussing on the following:\n",
    "\n",
    "* `C`: The penalty parameter of the error term; and\n",
    "* `gamma`: The kernel coefficient.\n",
    "\n",
    "In this example, we'll set the number of folds in our cross validation to 2, we'll optimise using F1-score, and tune the two above mentioned parameters. `sklearn` really does make this simple for us."
   ]
  },
  {
   "cell_type": "code",
   "execution_count": 15,
   "id": "7b789674",
   "metadata": {},
   "outputs": [
    {
     "data": {
      "text/html": [
       "<style>#sk-container-id-1 {color: black;background-color: white;}#sk-container-id-1 pre{padding: 0;}#sk-container-id-1 div.sk-toggleable {background-color: white;}#sk-container-id-1 label.sk-toggleable__label {cursor: pointer;display: block;width: 100%;margin-bottom: 0;padding: 0.3em;box-sizing: border-box;text-align: center;}#sk-container-id-1 label.sk-toggleable__label-arrow:before {content: \"▸\";float: left;margin-right: 0.25em;color: #696969;}#sk-container-id-1 label.sk-toggleable__label-arrow:hover:before {color: black;}#sk-container-id-1 div.sk-estimator:hover label.sk-toggleable__label-arrow:before {color: black;}#sk-container-id-1 div.sk-toggleable__content {max-height: 0;max-width: 0;overflow: hidden;text-align: left;background-color: #f0f8ff;}#sk-container-id-1 div.sk-toggleable__content pre {margin: 0.2em;color: black;border-radius: 0.25em;background-color: #f0f8ff;}#sk-container-id-1 input.sk-toggleable__control:checked~div.sk-toggleable__content {max-height: 200px;max-width: 100%;overflow: auto;}#sk-container-id-1 input.sk-toggleable__control:checked~label.sk-toggleable__label-arrow:before {content: \"▾\";}#sk-container-id-1 div.sk-estimator input.sk-toggleable__control:checked~label.sk-toggleable__label {background-color: #d4ebff;}#sk-container-id-1 div.sk-label input.sk-toggleable__control:checked~label.sk-toggleable__label {background-color: #d4ebff;}#sk-container-id-1 input.sk-hidden--visually {border: 0;clip: rect(1px 1px 1px 1px);clip: rect(1px, 1px, 1px, 1px);height: 1px;margin: -1px;overflow: hidden;padding: 0;position: absolute;width: 1px;}#sk-container-id-1 div.sk-estimator {font-family: monospace;background-color: #f0f8ff;border: 1px dotted black;border-radius: 0.25em;box-sizing: border-box;margin-bottom: 0.5em;}#sk-container-id-1 div.sk-estimator:hover {background-color: #d4ebff;}#sk-container-id-1 div.sk-parallel-item::after {content: \"\";width: 100%;border-bottom: 1px solid gray;flex-grow: 1;}#sk-container-id-1 div.sk-label:hover label.sk-toggleable__label {background-color: #d4ebff;}#sk-container-id-1 div.sk-serial::before {content: \"\";position: absolute;border-left: 1px solid gray;box-sizing: border-box;top: 0;bottom: 0;left: 50%;z-index: 0;}#sk-container-id-1 div.sk-serial {display: flex;flex-direction: column;align-items: center;background-color: white;padding-right: 0.2em;padding-left: 0.2em;position: relative;}#sk-container-id-1 div.sk-item {position: relative;z-index: 1;}#sk-container-id-1 div.sk-parallel {display: flex;align-items: stretch;justify-content: center;background-color: white;position: relative;}#sk-container-id-1 div.sk-item::before, #sk-container-id-1 div.sk-parallel-item::before {content: \"\";position: absolute;border-left: 1px solid gray;box-sizing: border-box;top: 0;bottom: 0;left: 50%;z-index: -1;}#sk-container-id-1 div.sk-parallel-item {display: flex;flex-direction: column;z-index: 1;position: relative;background-color: white;}#sk-container-id-1 div.sk-parallel-item:first-child::after {align-self: flex-end;width: 50%;}#sk-container-id-1 div.sk-parallel-item:last-child::after {align-self: flex-start;width: 50%;}#sk-container-id-1 div.sk-parallel-item:only-child::after {width: 0;}#sk-container-id-1 div.sk-dashed-wrapped {border: 1px dashed gray;margin: 0 0.4em 0.5em 0.4em;box-sizing: border-box;padding-bottom: 0.4em;background-color: white;}#sk-container-id-1 div.sk-label label {font-family: monospace;font-weight: bold;display: inline-block;line-height: 1.2em;}#sk-container-id-1 div.sk-label-container {text-align: center;}#sk-container-id-1 div.sk-container {/* jupyter's `normalize.less` sets `[hidden] { display: none; }` but bootstrap.min.css set `[hidden] { display: none !important; }` so we also need the `!important` here to be able to override the default hidden behavior on the sphinx rendered scikit-learn.org. See: https://github.com/scikit-learn/scikit-learn/issues/21755 */display: inline-block !important;position: relative;}#sk-container-id-1 div.sk-text-repr-fallback {display: none;}</style><div id=\"sk-container-id-1\" class=\"sk-top-container\"><div class=\"sk-text-repr-fallback\"><pre>GridSearchCV(cv=2, estimator=SVC(),\n",
       "             param_grid={&#x27;C&#x27;: [0.001, 0.01, 0.1, 1, 10],\n",
       "                         &#x27;gamma&#x27;: [0.001, 0.01, 0.1, 1]},\n",
       "             scoring=&#x27;f1&#x27;)</pre><b>In a Jupyter environment, please rerun this cell to show the HTML representation or trust the notebook. <br />On GitHub, the HTML representation is unable to render, please try loading this page with nbviewer.org.</b></div><div class=\"sk-container\" hidden><div class=\"sk-item sk-dashed-wrapped\"><div class=\"sk-label-container\"><div class=\"sk-label sk-toggleable\"><input class=\"sk-toggleable__control sk-hidden--visually\" id=\"sk-estimator-id-1\" type=\"checkbox\" ><label for=\"sk-estimator-id-1\" class=\"sk-toggleable__label sk-toggleable__label-arrow\">GridSearchCV</label><div class=\"sk-toggleable__content\"><pre>GridSearchCV(cv=2, estimator=SVC(),\n",
       "             param_grid={&#x27;C&#x27;: [0.001, 0.01, 0.1, 1, 10],\n",
       "                         &#x27;gamma&#x27;: [0.001, 0.01, 0.1, 1]},\n",
       "             scoring=&#x27;f1&#x27;)</pre></div></div></div><div class=\"sk-parallel\"><div class=\"sk-parallel-item\"><div class=\"sk-item\"><div class=\"sk-label-container\"><div class=\"sk-label sk-toggleable\"><input class=\"sk-toggleable__control sk-hidden--visually\" id=\"sk-estimator-id-2\" type=\"checkbox\" ><label for=\"sk-estimator-id-2\" class=\"sk-toggleable__label sk-toggleable__label-arrow\">estimator: SVC</label><div class=\"sk-toggleable__content\"><pre>SVC()</pre></div></div></div><div class=\"sk-serial\"><div class=\"sk-item\"><div class=\"sk-estimator sk-toggleable\"><input class=\"sk-toggleable__control sk-hidden--visually\" id=\"sk-estimator-id-3\" type=\"checkbox\" ><label for=\"sk-estimator-id-3\" class=\"sk-toggleable__label sk-toggleable__label-arrow\">SVC</label><div class=\"sk-toggleable__content\"><pre>SVC()</pre></div></div></div></div></div></div></div></div></div></div>"
      ],
      "text/plain": [
       "GridSearchCV(cv=2, estimator=SVC(),\n",
       "             param_grid={'C': [0.001, 0.01, 0.1, 1, 10],\n",
       "                         'gamma': [0.001, 0.01, 0.1, 1]},\n",
       "             scoring='f1')"
      ]
     },
     "execution_count": 15,
     "metadata": {},
     "output_type": "execute_result"
    }
   ],
   "source": [
    "nfolds = 2\n",
    "\n",
    "Cs = [0.001, 0.01, 0.1, 1, 10]\n",
    "gammas = [0.001, 0.01, 0.1, 1]\n",
    "\n",
    "param_grid = {\n",
    "    'C'     : Cs, \n",
    "    'gamma' : gammas\n",
    "    }\n",
    "\n",
    "grid_SVM = GridSearchCV(SVC(), param_grid, scoring='f1', cv=nfolds)\n",
    "grid_SVM.fit(X_train, y_train)"
   ]
  },
  {
   "attachments": {},
   "cell_type": "markdown",
   "id": "e23fc5a1",
   "metadata": {},
   "source": [
    "All done! Can you calculate how many models we just trained?\n",
    "\n",
    "Finally, we'll print out the best parameters for `C` and `gamma`."
   ]
  },
  {
   "cell_type": "code",
   "execution_count": 16,
   "id": "0267190c",
   "metadata": {},
   "outputs": [
    {
     "data": {
      "text/plain": [
       "{'C': 10, 'gamma': 0.01}"
      ]
     },
     "execution_count": 16,
     "metadata": {},
     "output_type": "execute_result"
    }
   ],
   "source": [
    "grid_SVM.best_params_"
   ]
  },
  {
   "cell_type": "markdown",
   "id": "9889bf7a",
   "metadata": {},
   "source": [
    "## Conclusion\n",
    "\n",
    "Now that we've reached the end of this train, you should be able to:\n",
    "* Understand what it means to tune hyperparameters;\n",
    "* Find optimal hyperparameters using grid search.\n",
    "\n",
    "If you are still unclear on these topics, be sure to work through a couple more examples in order to solidify this knowledge."
   ]
  },
  {
   "cell_type": "markdown",
   "id": "f2698c2f",
   "metadata": {},
   "source": [
    "## References\n",
    "\n",
    "This notebook is based in large part on the [Python Data Science Handbook](http://shop.oreilly.com/product/0636920034919.do) by Jake VanderPlas; the content is available [on GitHub](https://github.com/jakevdp/PythonDataScienceHandbook)."
   ]
  },
  {
   "cell_type": "markdown",
   "id": "26fd094b-0fee-46f1-a4b8-73766813c42b",
   "metadata": {
    "tags": []
   },
   "source": [
    "#  \n",
    "\n",
    "<div align=\"center\" style=\" font-size: 80%; text-align: center; margin: 0 auto\">\n",
    "<img src=\"https://raw.githubusercontent.com/Explore-AI/Pictures/master/ExploreAI_logos/EAI_Blue_Dark.png\"  style=\"width:200px\";/>\n",
    "</div>"
   ]
  }
 ],
 "metadata": {
  "kernelspec": {
   "display_name": "Python 3 (ipykernel)",
   "language": "python",
   "name": "python3"
  },
  "language_info": {
   "codemirror_mode": {
    "name": "ipython",
    "version": 3
   },
   "file_extension": ".py",
   "mimetype": "text/x-python",
   "name": "python",
   "nbconvert_exporter": "python",
   "pygments_lexer": "ipython3",
   "version": "3.11.7"
  }
 },
 "nbformat": 4,
 "nbformat_minor": 5
}
